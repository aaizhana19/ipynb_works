{
 "cells": [
  {
   "cell_type": "markdown",
   "metadata": {},
   "source": [
    "#### Задача 1 (20 баллов) \n",
    "\n",
    "Дан лист вида \n",
    "\n",
    "a = [ \n",
    "\n",
    "    [50, 50], \n",
    "\n",
    "    [70, 15, 15], \n",
    "\n",
    "    [90, 5, 2.5, 2.5], \n",
    "\n",
    "    [99, 10], \n",
    "\n",
    "] \n",
    "\n",
    "Проверьте, что во всех чётных (по индексу/номеру, то есть строки 0, 2, 4…) строках чётное количество элементов, а в нечётных - нечётное. \n",
    "\n",
    "Решение нужно оформить в виде функции/функций. "
   ]
  },
  {
   "cell_type": "code",
   "execution_count": 1,
   "metadata": {},
   "outputs": [],
   "source": [
    "a = [[50, 50], \n",
    "\n",
    "     [70, 15, 15], \n",
    "\n",
    "     [90, 5, 2.5, 2.5], \n",
    "\n",
    "     [99, 10], \n",
    "]"
   ]
  },
  {
   "cell_type": "code",
   "execution_count": 2,
   "metadata": {},
   "outputs": [],
   "source": [
    "def sum_of_even_row(row):\n",
    "    s=0\n",
    "    for elem in row:\n",
    "        s+=1\n",
    "    return s\n",
    "        \n",
    "\n",
    "def sum_of_odd_row(row):\n",
    "    s=0\n",
    "    for elem in row:\n",
    "        s+=1\n",
    "    return s\n",
    "\n",
    "\n",
    "def check_list(a):\n",
    "    evens= False\n",
    "    odds = False\n",
    "    for i in range(len(a)):\n",
    "        if i%2==0:\n",
    "            if sum_of_even_row(a[i])%2==0:\n",
    "                evens = True\n",
    "        else:\n",
    "            if sum_of_odd_row(a[i])%2!=0:\n",
    "                odds = True\n",
    "    if evens and odds:\n",
    "        return True\n",
    "    return False   "
   ]
  },
  {
   "cell_type": "code",
   "execution_count": 3,
   "metadata": {},
   "outputs": [
    {
     "data": {
      "text/plain": [
       "True"
      ]
     },
     "execution_count": 3,
     "metadata": {},
     "output_type": "execute_result"
    }
   ],
   "source": [
    "check_list(a)"
   ]
  },
  {
   "cell_type": "markdown",
   "metadata": {},
   "source": [
    "### Задача 2 (20 баллов) \n",
    "\n",
    "Дан лист вида: \n",
    "\n",
    "a = [3, 6, 12, 55, …] \n",
    "\n",
    "Нужно сформировать словарь вида: \n",
    "\n",
    "{ \n",
    "\n",
    "    1: 4, \n",
    "\n",
    "    2: 2, \n",
    "\n",
    "    3: 3, \n",
    "\n",
    "    4: 1, \n",
    "\n",
    "    5: 1, \n",
    "\n",
    "    6: 2, \n",
    "\n",
    "    11: 1, \n",
    "\n",
    "    12: 1, \n",
    "\n",
    "} \n",
    "\n",
    "где ключи – делители, а значения – то, сколько чисел в списке делится на этот делитель. Например, на 6 делится 2 числа (6 и 12), а на 11 одно (55). \n",
    "\n",
    "Если на делитель ни одно число не делится, его может не быть в результирующем словаре. "
   ]
  },
  {
   "cell_type": "code",
   "execution_count": 8,
   "metadata": {},
   "outputs": [],
   "source": [
    "a = [3, 6, 12, 55]"
   ]
  },
  {
   "cell_type": "code",
   "execution_count": 22,
   "metadata": {},
   "outputs": [
    {
     "name": "stdout",
     "output_type": "stream",
     "text": [
      "{3: 3, 6: 2, 12: 1, 55: 1}\n"
     ]
    }
   ],
   "source": [
    "d= {}\n",
    "for i in range(len(a)):\n",
    "    s=0\n",
    "    if a[i]%a[i]==0:\n",
    "        s+=1\n",
    "        if a[i] not in d:\n",
    "            d[a[i]]=s\n",
    "    for j in range(i+1,len(a)):\n",
    "        if a[j]%a[i]==0:\n",
    "            s+=1\n",
    "            if a[i] not in d:\n",
    "                d[a[i]] = s\n",
    "            else:\n",
    "                d[a[i]] += 1\n",
    "                \n",
    "print(d)"
   ]
  },
  {
   "cell_type": "markdown",
   "metadata": {},
   "source": [
    "### Задача 3 (20 баллов) \n",
    "\n",
    "Нужно реализовать связанный список. \n",
    "\n",
    "Наполните его случайными числами. \n",
    "\n",
    "Затем напишите функцию, которая создаст отдельный связанный список и перенесёт в него все простые числа из изначального связанного списка. Перенесёт – значит удалит из старого списка, и добавит в новый (желательно без создания нового Node). \n",
    "\n",
    "Пример: \n",
    "\n",
    "Если исходный список был \n",
    "\n",
    "1->2->3->4->5->6 \n",
    "\n",
    "То функция должна вернуть список \n",
    "\n",
    "1->2->3->5 \n",
    "\n",
    "А в исходном списке должны остаться числа \n",
    "\n",
    "4->6 "
   ]
  },
  {
   "cell_type": "code",
   "execution_count": 155,
   "metadata": {},
   "outputs": [],
   "source": [
    "class LinkedList:\n",
    "    head = None\n",
    "    \n",
    "    class Node:\n",
    "        element = None\n",
    "        next_node = None\n",
    "        \n",
    "        \n",
    "        def __init__(self,element,next_node = None):\n",
    "            self.element = element\n",
    "            self.next_node = next_node\n",
    "            \n",
    "    def append(self, element):\n",
    "        if not self.head:\n",
    "            self.head = self.Node(element)\n",
    "            return element\n",
    "        node =  self.head\n",
    "        \n",
    "        while node.next_node:\n",
    "            node = node.next_node\n",
    "        \n",
    "        node.next_node = self.Node(element)\n",
    "       \n",
    "        return element\n",
    "    \n",
    "    \n",
    "    def out(self):\n",
    "        node = self.head\n",
    "        \n",
    "        while node.next_node:\n",
    "            print(node.element)\n",
    "            node = node.next_node\n",
    "        print(node.element)\n",
    "        \n",
    "        \n",
    "    def delete_prime_node(self):\n",
    "        curr = self.head\n",
    " \n",
    "        if curr is not None:\n",
    "            if is_prime(curr.element):\n",
    "                self.head = curr.next_node\n",
    "                curr = None\n",
    "                return\n",
    " \n",
    "        \n",
    "        while(curr is not None):\n",
    "            if is_prime(curr.element):\n",
    "                break\n",
    "            prev = curr\n",
    "            curr = curr.next_node\n",
    " \n",
    "    \n",
    "        prev.next_node = curr.next_node\n",
    " \n",
    "        curr = None\n",
    "    \n",
    "    \n",
    "    \n",
    "    \n",
    "  \n",
    "      "
   ]
  },
  {
   "cell_type": "code",
   "execution_count": 156,
   "metadata": {},
   "outputs": [],
   "source": [
    "link_list = LinkedList()"
   ]
  },
  {
   "cell_type": "code",
   "execution_count": 157,
   "metadata": {},
   "outputs": [
    {
     "data": {
      "text/plain": [
       "11"
      ]
     },
     "execution_count": 157,
     "metadata": {},
     "output_type": "execute_result"
    }
   ],
   "source": [
    "link_list.append(30)\n",
    "link_list.append(5)\n",
    "link_list.append(50)\n",
    "link_list.append(40)\n",
    "link_list.append(7)\n",
    "link_list.append(11)"
   ]
  },
  {
   "cell_type": "code",
   "execution_count": 158,
   "metadata": {
    "scrolled": true
   },
   "outputs": [
    {
     "name": "stdout",
     "output_type": "stream",
     "text": [
      "30\n",
      "5\n",
      "50\n",
      "40\n",
      "7\n",
      "11\n"
     ]
    }
   ],
   "source": [
    "link_list.out()"
   ]
  },
  {
   "cell_type": "code",
   "execution_count": 159,
   "metadata": {},
   "outputs": [],
   "source": [
    "link_list.delete_prime_node()\n"
   ]
  },
  {
   "cell_type": "code",
   "execution_count": 160,
   "metadata": {},
   "outputs": [
    {
     "name": "stdout",
     "output_type": "stream",
     "text": [
      "30\n",
      "50\n",
      "40\n",
      "7\n",
      "11\n"
     ]
    }
   ],
   "source": [
    "link_list.out()"
   ]
  },
  {
   "cell_type": "code",
   "execution_count": 151,
   "metadata": {},
   "outputs": [],
   "source": [
    "link_list.delete_node()"
   ]
  },
  {
   "cell_type": "code",
   "execution_count": 152,
   "metadata": {},
   "outputs": [
    {
     "name": "stdout",
     "output_type": "stream",
     "text": [
      "30\n",
      "50\n",
      "40\n",
      "11\n"
     ]
    }
   ],
   "source": [
    "link_list.out()"
   ]
  },
  {
   "cell_type": "code",
   "execution_count": 153,
   "metadata": {},
   "outputs": [],
   "source": [
    "link_list.delete_node()"
   ]
  },
  {
   "cell_type": "code",
   "execution_count": 154,
   "metadata": {},
   "outputs": [
    {
     "name": "stdout",
     "output_type": "stream",
     "text": [
      "30\n",
      "50\n",
      "40\n"
     ]
    }
   ],
   "source": [
    "link_list.out()"
   ]
  },
  {
   "cell_type": "markdown",
   "metadata": {},
   "source": [
    "### Задача 4 (20 баллов) \n",
    "\n",
    "Нужно создать классы TreeNode и Tree, описывающие узлы дерева и дерево, соответственно. \n",
    "\n",
    "Напишите функцию, которая обойдёт дерево в ширину и найдёт самое глубокое (с наибольшим расстоянием до корня/root) простое число. \n",
    "\n",
    " \n",
    "\n",
    "* +20 баллов – реализуйте эту задачу для графов. Здесь под глубиной будет пониматься минимально возможное расстояние от произвольно заданного «корневого» узла до данного узла. "
   ]
  },
  {
   "cell_type": "code",
   "execution_count": 23,
   "metadata": {},
   "outputs": [],
   "source": [
    "def is_prime(number):\n",
    "    for i in range(2, number):\n",
    "        if number % i == 0:\n",
    "            return False\n",
    "    return True"
   ]
  },
  {
   "cell_type": "code",
   "execution_count": 28,
   "metadata": {},
   "outputs": [],
   "source": [
    "class TreeNode:\n",
    "    def __init__(self, value):\n",
    "        self.value = value\n",
    "        self.children = []\n",
    "\n",
    "    def __repr__(self):\n",
    "        return \"Node \" + str(self.value)\n",
    "\n",
    "\n",
    "class Tree:\n",
    "    def __init__(self):\n",
    "        self.root = None\n",
    "        \n",
    "    def bfs_deep_prime(self):\n",
    "        curr = [self.root]\n",
    "        next = []\n",
    "        depth = 0\n",
    "        visited = dict()\n",
    "        deepest=0\n",
    "        prime=0\n",
    "        \n",
    "        while curr:\n",
    "            for elem in curr:\n",
    "                if elem in visited:\n",
    "                    continue\n",
    "                print(elem.value, \"@\", depth)\n",
    "                next += elem.children\n",
    "                visited[elem.value] = depth\n",
    "            curr = next\n",
    "            next = []\n",
    "            depth += 1\n",
    "            \n",
    "        for key,value in visited.items():\n",
    "            if is_prime(key):\n",
    "                if value>deepest:\n",
    "                    deepest=value\n",
    "                    prime=key\n",
    "        \n",
    "                \n",
    "        return \"deepest prime number: \",prime,\"with level:\" ,deepest"
   ]
  },
  {
   "cell_type": "code",
   "execution_count": 29,
   "metadata": {},
   "outputs": [],
   "source": [
    "t1 = TreeNode(20)\n",
    "t2 = TreeNode(30)\n",
    "t3 = TreeNode(40)\n",
    "t4 = TreeNode(5)\n",
    "t5 = TreeNode(2)\n",
    "t6 = TreeNode(3)"
   ]
  },
  {
   "cell_type": "code",
   "execution_count": 30,
   "metadata": {},
   "outputs": [],
   "source": [
    "t = Tree()\n",
    "t.root = t1\n",
    "t.root.children.append(t2)\n",
    "t.root.children.append(t3)\n",
    "t2.children.append(t4)\n",
    "t3.children.append(t5)\n",
    "t3.children.append(t6)\n"
   ]
  },
  {
   "cell_type": "code",
   "execution_count": 31,
   "metadata": {},
   "outputs": [
    {
     "name": "stdout",
     "output_type": "stream",
     "text": [
      "20 @ 0\n",
      "30 @ 1\n",
      "40 @ 1\n",
      "5 @ 2\n",
      "2 @ 2\n",
      "3 @ 2\n"
     ]
    },
    {
     "data": {
      "text/plain": [
       "('deepest prime number: ', 5, 'with level:', 2)"
      ]
     },
     "execution_count": 31,
     "metadata": {},
     "output_type": "execute_result"
    }
   ],
   "source": [
    "t.bfs_deep_prime()"
   ]
  },
  {
   "cell_type": "markdown",
   "metadata": {},
   "source": []
  },
  {
   "cell_type": "code",
   "execution_count": 40,
   "metadata": {},
   "outputs": [],
   "source": [
    "class GraphNode:\n",
    "    def __init__(self, value):\n",
    "        self.value = value\n",
    "        self.children = []\n",
    "\n",
    "    def __repr__(self):\n",
    "        return \"Node \" + str(self.value)\n",
    "\n",
    "class Graph:\n",
    "    def __init__(self):\n",
    "        self.root = None\n",
    "        \n",
    "    def dfs_levels(self, current_node=None, depth=0, visited=None):\n",
    "        deepest=0\n",
    "        prime=0\n",
    "        if visited is None:\n",
    "            visited = dict()\n",
    "        if current_node is None:\n",
    "            current_node = self.root\n",
    "\n",
    "        \n",
    "        visited[current_node.value]=depth\n",
    "        print(current_node.value, \"@\", depth)      \n",
    "        for child in current_node.children:                \n",
    "            if child in visited:\n",
    "                continue\n",
    "            self.dfs_levels(child, depth + 1, visited)\n",
    "            \n",
    "        for key,value in visited.items():\n",
    "            if is_prime(key):\n",
    "                if value>deepest:\n",
    "                    deepest=value\n",
    "                    prime=key\n",
    "        \n",
    "                \n",
    "        return \"deepest prime number: \",prime,\"with level:\" ,deepest"
   ]
  },
  {
   "cell_type": "code",
   "execution_count": 41,
   "metadata": {},
   "outputs": [],
   "source": [
    "t1 = GraphNode(1)\n",
    "t2 = GraphNode(3)\n",
    "t3 = GraphNode(40)\n",
    "t4 = GraphNode(50)\n",
    "t5 = GraphNode(20)\n",
    "t6 = GraphNode(7)\n",
    "t7 = GraphNode(22)\n",
    "t8 = GraphNode(33)\n",
    "t9 = GraphNode(4)\n",
    "t10 = GraphNode(47)\n",
    "t11 = GraphNode(68)\n",
    "t12 = GraphNode(11)\n",
    "\n",
    "t = Graph()\n",
    "t.root = t1\n",
    "\n",
    "t.root.children.append(t2)\n",
    "t.root.children.append(t3)\n",
    "t.root.children.append(t4)\n",
    "t.root.children.append(t5)\n",
    "t.root.children.append(t6)\n",
    "t.root.children.append(t7)\n",
    "t.root.children.append(t8)\n",
    "\n",
    "t2.children.append(t9)\n",
    "t2.children.append(t10)\n",
    "t6.children.append(t11)\n",
    "t11.children.append(t12)\n"
   ]
  },
  {
   "cell_type": "code",
   "execution_count": 42,
   "metadata": {},
   "outputs": [
    {
     "name": "stdout",
     "output_type": "stream",
     "text": [
      "1 @ 0\n",
      "3 @ 1\n",
      "4 @ 2\n",
      "47 @ 2\n",
      "40 @ 1\n",
      "50 @ 1\n",
      "20 @ 1\n",
      "7 @ 1\n",
      "68 @ 2\n",
      "11 @ 3\n",
      "22 @ 1\n",
      "33 @ 1\n"
     ]
    },
    {
     "data": {
      "text/plain": [
       "('deepest prime number: ', 11, 'with level:', 3)"
      ]
     },
     "execution_count": 42,
     "metadata": {},
     "output_type": "execute_result"
    }
   ],
   "source": [
    "t.dfs_levels()"
   ]
  },
  {
   "cell_type": "code",
   "execution_count": null,
   "metadata": {},
   "outputs": [],
   "source": []
  },
  {
   "cell_type": "code",
   "execution_count": null,
   "metadata": {},
   "outputs": [],
   "source": []
  },
  {
   "cell_type": "code",
   "execution_count": null,
   "metadata": {},
   "outputs": [],
   "source": []
  },
  {
   "cell_type": "code",
   "execution_count": null,
   "metadata": {},
   "outputs": [],
   "source": []
  },
  {
   "cell_type": "markdown",
   "metadata": {},
   "source": []
  }
 ],
 "metadata": {
  "kernelspec": {
   "display_name": "Python 3 (ipykernel)",
   "language": "python",
   "name": "python3"
  },
  "language_info": {
   "codemirror_mode": {
    "name": "ipython",
    "version": 3
   },
   "file_extension": ".py",
   "mimetype": "text/x-python",
   "name": "python",
   "nbconvert_exporter": "python",
   "pygments_lexer": "ipython3",
   "version": "3.9.7"
  }
 },
 "nbformat": 4,
 "nbformat_minor": 4
}
