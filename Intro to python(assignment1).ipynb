{
 "cells": [
  {
   "cell_type": "markdown",
   "metadata": {},
   "source": [
    "1.Напишите функцию Python, чтобы найти максимум из трех чисел\n"
   ]
  },
  {
   "cell_type": "code",
   "execution_count": 79,
   "metadata": {},
   "outputs": [
    {
     "name": "stdout",
     "output_type": "stream",
     "text": [
      "4\n",
      "9\n",
      "10\n",
      " Максимальное число:  10\n"
     ]
    }
   ],
   "source": [
    "def max_number(a,b,c):\n",
    "    if b<a>c:\n",
    "        print(\" Максимальное число: \",a)\n",
    "    if a<b>c:\n",
    "        print(\" Максимальное число: \",b)\n",
    "    if a<c>b:\n",
    "        print(\" Максимальное число: \",c)\n",
    "x=int(input())\n",
    "y=int(input())\n",
    "z=int(input())\n",
    "max_number(x,y,z)\n",
    "    "
   ]
  },
  {
   "cell_type": "markdown",
   "metadata": {},
   "source": [
    "2.Напишите функцию Python которая вернет строку в обратном порядке.\n",
    "Пример строки: «1234abcd»\n",
    "Ожидаемый результат: «dcba4321»"
   ]
  },
  {
   "cell_type": "code",
   "execution_count": 81,
   "metadata": {},
   "outputs": [
    {
     "name": "stdout",
     "output_type": "stream",
     "text": [
      "1234abcd\n"
     ]
    },
    {
     "data": {
      "text/plain": [
       "'dcba4321'"
      ]
     },
     "execution_count": 81,
     "metadata": {},
     "output_type": "execute_result"
    }
   ],
   "source": [
    "def naoborot(s):\n",
    "    return (s[::-1])\n",
    "stroka=input()\n",
    "naoborot(stroka)"
   ]
  },
  {
   "cell_type": "markdown",
   "metadata": {},
   "source": [
    "3.Напишите функцию Python для вычисления факториала числа (неотрицательное\n",
    "целое число). Функция принимает число в качестве аргумента"
   ]
  },
  {
   "cell_type": "code",
   "execution_count": 17,
   "metadata": {},
   "outputs": [
    {
     "name": "stdout",
     "output_type": "stream",
     "text": [
      "3\n",
      "6\n"
     ]
    }
   ],
   "source": [
    "def factorial(n):\n",
    "    k=1\n",
    "    for i in range(2, n+1):\n",
    "        k *= i\n",
    "        result=k\n",
    "    return result\n",
    "n = int(input())\n",
    "result = factorial(n)\n",
    "print(result)\n",
    "\n"
   ]
  },
  {
   "cell_type": "markdown",
   "metadata": {},
   "source": [
    "4.Напишите функцию Python, которая принимает строку и вычисляет количество\n",
    "букв верхнего и нижнего регистра.\n",
    "Пример строки: 'The quick Brow Fox'\n",
    "Ожидаемый результат:\n",
    "Количество символов в верхнем регистре: 3\n",
    "Количество строчных символов: 12\n"
   ]
  },
  {
   "cell_type": "code",
   "execution_count": 85,
   "metadata": {},
   "outputs": [
    {
     "name": "stdout",
     "output_type": "stream",
     "text": [
      "The quick Brow Fox\n",
      "Количество символов в верхнем регистре:  3\n",
      "Количество строчных символов:  12\n"
     ]
    }
   ],
   "source": [
    "def _swaap(s):\n",
    "    small = 0\n",
    "    big = 0\n",
    "    for i in s:\n",
    "        if 'a' <= i <= 'z':\n",
    "            small += 1\n",
    "        else:\n",
    "            if 'A' <= i <= 'Z':\n",
    "                big += 1\n",
    "    print(\"Количество символов в верхнем регистре: \",big)\n",
    "    print(\"Количество строчных символов: \",small)\n",
    "    \n",
    "s = input()\n",
    "_swaap(s)"
   ]
  },
  {
   "cell_type": "markdown",
   "metadata": {},
   "source": [
    "5.Напишите функцию Python, которая принимает список и возвращает новый список\n",
    "с уникальными элементами первого списка.\n",
    "Примерный список: [1,2,3,3,3,3,4,5]\n",
    "Уникальный список: [1, 2, 3, 4, 5]\n",
    "    "
   ]
  },
  {
   "cell_type": "code",
   "execution_count": 86,
   "metadata": {},
   "outputs": [
    {
     "name": "stdout",
     "output_type": "stream",
     "text": [
      "1 2 3 3 3 3 4 5\n"
     ]
    },
    {
     "data": {
      "text/plain": [
       "['1', '2', '3', '4', '5']"
      ]
     },
     "execution_count": 86,
     "metadata": {},
     "output_type": "execute_result"
    }
   ],
   "source": [
    "def unique(s):\n",
    "    return sorted(list(set(spisok)))\n",
    "spisok=input().split()\n",
    "unique(spisok)"
   ]
  },
  {
   "cell_type": "markdown",
   "metadata": {},
   "source": [
    "6. Напишите функцию Python, которая принимает число в качестве параметра и\n",
    "проверяет, является ли число простым или нет.\n",
    "Примечание. Простое число - это натуральное число больше 1 и не имеет\n",
    "положительных делителей, кроме 1 и самого себя."
   ]
  },
  {
   "cell_type": "code",
   "execution_count": 26,
   "metadata": {},
   "outputs": [
    {
     "name": "stdout",
     "output_type": "stream",
     "text": [
      "4\n",
      "False\n"
     ]
    }
   ],
   "source": [
    "from math  import sqrt\n",
    "\n",
    "\n",
    "def is_prostoe(n):\n",
    "    if n < 2:\n",
    "        return False\n",
    "    if n == 2:\n",
    "        return True\n",
    "    limit = sqrt(n)\n",
    "    i = 2\n",
    "    while i <= limit:\n",
    "        if n % i == 0:\n",
    "            return False\n",
    "        i += 1\n",
    "    return True\n",
    "num = int(input())\n",
    "print(is_prostoe(num))"
   ]
  },
  {
   "cell_type": "markdown",
   "metadata": {},
   "source": [
    "7. Напишите функцию Python для печати четных чисел из заданного списка.\n",
    "Примерный список: [1, 2, 3, 4, 5, 6, 7, 8, 9]\n",
    "Ожидаемый результат: [2, 4, 6, 8]"
   ]
  },
  {
   "cell_type": "code",
   "execution_count": 3,
   "metadata": {},
   "outputs": [
    {
     "name": "stdout",
     "output_type": "stream",
     "text": [
      "1 2 3 4 5 6 7 8 9\n"
     ]
    },
    {
     "data": {
      "text/plain": [
       "['2', '4', '6', '8']"
      ]
     },
     "execution_count": 3,
     "metadata": {},
     "output_type": "execute_result"
    }
   ],
   "source": [
    "def even_numbers(s):\n",
    "    for  i in s:\n",
    "        if int(i)%2==1:\n",
    "            s.remove(i)\n",
    "    return(s) \n",
    "spisok=input().split()\n",
    "even_numbers(spisok)"
   ]
  },
  {
   "cell_type": "markdown",
   "metadata": {},
   "source": [
    "8. Напишите функцию Python, чтобы проверить, совершенное ли число.\n",
    "Согласно Википедии: в теории чисел совершенное число - это положительное\n",
    "целое число, равное сумме своих положительных делителей,Пример: первое\n",
    "совершенное число - 6, потому что 1, 2 и 3 являются его собственными\n",
    "положительными делителями, а 1 + 2 + 3 = 6. Точно так же число 6 равно половине\n",
    "суммы всех его положительных делителей: (1 + 2 + 3 + 6) / 2 = 6. Следующее\n",
    "совершенное число - 28 = 1 + 2 + 4 + 7 + 14. Далее идут совершенные числа 496 и\n",
    "8128.\n"
   ]
  },
  {
   "cell_type": "code",
   "execution_count": 16,
   "metadata": {},
   "outputs": [
    {
     "name": "stdout",
     "output_type": "stream",
     "text": [
      "28\n",
      "True\n"
     ]
    }
   ],
   "source": [
    "def soverwennoe(n):\n",
    "    sum = 0\n",
    "    for x in range(1, n):\n",
    "        if n % x == 0:\n",
    "            sum += x\n",
    "    return sum == n\n",
    "print(soverwennoe(int(input())))\n",
    " "
   ]
  },
  {
   "cell_type": "markdown",
   "metadata": {},
   "source": [
    "9.Напишите функцию Python, которая принимает в качестве входных данных\n",
    "последовательность слов, разделенных дефисами, и печатает слова в\n",
    "последовательности, разделенной дефисами, после их сортировки по алфавиту.\n",
    "Образцы элементов: green-red-yellow-black-white\n",
    "Ожидаемый результат: black-green-red-white-yellow"
   ]
  },
  {
   "cell_type": "code",
   "execution_count": 88,
   "metadata": {},
   "outputs": [
    {
     "name": "stdout",
     "output_type": "stream",
     "text": [
      "green-red-yellow-black-white\n"
     ]
    },
    {
     "data": {
      "text/plain": [
       "'black-green-red-white-yellow'"
      ]
     },
     "execution_count": 88,
     "metadata": {},
     "output_type": "execute_result"
    }
   ],
   "source": [
    "def alphabet_order(s):\n",
    "    return \"-\".join(sorted(s))\n",
    "stroka=input().split(\"-\")\n",
    "alphabet_order(stroka)"
   ]
  },
  {
   "cell_type": "markdown",
   "metadata": {},
   "source": [
    "10.Напишите функцию Python для преобразования температуры в градусы\n",
    "Цельсия, Фаренгейта и обратно.\n",
    "[Формула: c/5 = f-32/9 [где c = температура в градусах Цельсия, а f = температура\n",
    "в градусах Фаренгейта]\n",
    "Ожидаемый результат:\n",
    "60 ° C - 140 по Фаренгейту\n",
    "45 ° F это 7 по Цельсию"
   ]
  },
  {
   "cell_type": "code",
   "execution_count": 41,
   "metadata": {},
   "outputs": [
    {
     "name": "stdout",
     "output_type": "stream",
     "text": [
      "Выберите (C) или (F): C\n",
      "Введите температуру:  60\n",
      "60 ° C это 140 по Фаренгейту\n"
     ]
    }
   ],
   "source": [
    "def convert_temp(vid=None, temperature=None):\n",
    "    if vid == \"F\":\n",
    "        return 'по Цельсию', (temperature - 32.0) * (5.0/9.0)\n",
    "    elif vid == \"C\":\n",
    "        return 'по Фаренгейту', (temperature * (9.0/5.0)) + 32.0\n",
    "    else:\n",
    "        print(\"Нужно чтобы было в (С) или в (F)\")\n",
    "\n",
    "vid = input(\"Выберите (C) или (F): \")\n",
    "temperature = int(input(\"Введите температуру:  \"))\n",
    "s, m = convert_temp(vid, temperature)\n",
    "print(temperature,\"°\",vid,\"это\",int(m),s)"
   ]
  },
  {
   "cell_type": "markdown",
   "metadata": {},
   "source": [
    "17. Напишите программу Python где пользователь угадывает число от 1 до 9"
   ]
  },
  {
   "cell_type": "code",
   "execution_count": 5,
   "metadata": {},
   "outputs": [
    {
     "name": "stdout",
     "output_type": "stream",
     "text": [
      "Я думаю это 4\n",
      ": >\n",
      "Я думаю это 6\n",
      ": >\n",
      "Я думаю это 7\n",
      ": >\n",
      "Я думаю это 8\n",
      ": =\n",
      "Угадано с 4 попытки.\n"
     ]
    }
   ],
   "source": [
    "ugadal = False\n",
    "poputka = 0\n",
    "sleva = 0\n",
    "sprava = 9\n",
    "while not ugadal:\n",
    "    number = (sleva + sprava) // 2\n",
    "    print(\"Я думаю это\", number)\n",
    "    answ = input(\": \")\n",
    "    if not answ in (\"<\", \">\", \"=\"):\n",
    "        print(\"Неверный ввод данных!\")\n",
    "        continue\n",
    "    if answ == \"<\":\n",
    "        sprava = number\n",
    "    elif answ == \">\":\n",
    "        sleva = number\n",
    "    else:\n",
    "        ugadal = True\n",
    "    poputka += 1\n",
    "print(\"Угадано с\", poputka, \"попытки.\")"
   ]
  },
  {
   "cell_type": "code",
   "execution_count": null,
   "metadata": {},
   "outputs": [],
   "source": []
  },
  {
   "cell_type": "code",
   "execution_count": null,
   "metadata": {},
   "outputs": [],
   "source": []
  }
 ],
 "metadata": {
  "kernelspec": {
   "display_name": "Python 3 (ipykernel)",
   "language": "python",
   "name": "python3"
  },
  "language_info": {
   "codemirror_mode": {
    "name": "ipython",
    "version": 3
   },
   "file_extension": ".py",
   "mimetype": "text/x-python",
   "name": "python",
   "nbconvert_exporter": "python",
   "pygments_lexer": "ipython3",
   "version": "3.9.7"
  }
 },
 "nbformat": 4,
 "nbformat_minor": 4
}
