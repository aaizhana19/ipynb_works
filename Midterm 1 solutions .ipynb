{
 "cells": [
  {
   "cell_type": "markdown",
   "metadata": {},
   "source": [
    "1. Напишите программу Python для вычисления длины строки \n",
    "использованием циклов)(for loop)"
   ]
  },
  {
   "cell_type": "code",
   "execution_count": 2,
   "metadata": {},
   "outputs": [
    {
     "name": "stdout",
     "output_type": "stream",
     "text": [
      "Введите строку: google\n",
      "6\n"
     ]
    }
   ],
   "source": [
    "s=str(input(\"Введите строку: \"))\n",
    "a=1\n",
    "while (1==1):\n",
    "    print(len(s))\n",
    "    break"
   ]
  },
  {
   "cell_type": "markdown",
   "metadata": {},
   "source": [
    "2. Напишите программу Python для суммирования всех элементов\n",
    "списка.(for loop)"
   ]
  },
  {
   "cell_type": "code",
   "execution_count": 2,
   "metadata": {},
   "outputs": [
    {
     "name": "stdout",
     "output_type": "stream",
     "text": [
      "Введите произвольные числа4 7 8 9 -1\n",
      "27\n"
     ]
    }
   ],
   "source": [
    "a=[int(a) for a in input(\"Введите произвольные числа: \").split()]\n",
    "print(sum(a))"
   ]
  },
  {
   "cell_type": "markdown",
   "metadata": {},
   "source": [
    "3. Напишите программу Python, которая умножает все элементы в списке\n",
    "(for loop)"
   ]
  },
  {
   "cell_type": "code",
   "execution_count": 3,
   "metadata": {},
   "outputs": [
    {
     "name": "stdout",
     "output_type": "stream",
     "text": [
      "Введите произвольные числа: 4 7 8 9\n",
      "[4, 7, 8, 9, 4, 7, 8, 9]\n"
     ]
    }
   ],
   "source": [
    "a=[int(a) for a in input(\"Введите произвольные числа: \").split()]\n",
    "print(a*2)"
   ]
  },
  {
   "cell_type": "markdown",
   "metadata": {},
   "source": [
    "4. Напишите программу Python, чтобы получить наибольшее число из\n",
    "списка."
   ]
  },
  {
   "cell_type": "code",
   "execution_count": 8,
   "metadata": {},
   "outputs": [
    {
     "name": "stdout",
     "output_type": "stream",
     "text": [
      "Введите произвольные числа: 4 7 9\n",
      "9\n"
     ]
    }
   ],
   "source": [
    "a=[int(a) for a in input(\"Введите произвольные числа: \").split()]\n",
    "print(max(a))"
   ]
  },
  {
   "cell_type": "markdown",
   "metadata": {},
   "source": [
    "5. Напишите программу Python, чтобы получить наименьшее число из\n",
    "списка"
   ]
  },
  {
   "cell_type": "code",
   "execution_count": 13,
   "metadata": {
    "scrolled": true
   },
   "outputs": [
    {
     "name": "stdout",
     "output_type": "stream",
     "text": [
      "999 6666 888 11\n",
      "11\n"
     ]
    }
   ],
   "source": [
    "b=[str(b) for b in input().split(\"Введите произвольные числа: \")]\n",
    "print(min(b))"
   ]
  },
  {
   "cell_type": "markdown",
   "metadata": {},
   "source": [
    "6. Напишите программу Python для подсчета количества символов в\n",
    "строке.\n",
    "Пример строки: 'google.com'\n",
    "Ожидаемый результат: {'o': 3, 'g': 2, '.': 1, 'e': 1, 'l': 1, 'm': 1, 'c': 1}"
   ]
  },
  {
   "cell_type": "code",
   "execution_count": 6,
   "metadata": {},
   "outputs": [
    {
     "name": "stdout",
     "output_type": "stream",
     "text": [
      "Введите строку: google.com\n",
      "{'.': 1, 'l': 1, 'e': 1, 'c': 1, 'o': 3, 'm': 1, 'g': 2}\n"
     ]
    }
   ],
   "source": [
    "stroka=str(input(\"Введите строку: \"))\n",
    "result={c:stroka.count(c) for c in set(stroka)}\n",
    "print(result)\n"
   ]
  },
  {
   "cell_type": "markdown",
   "metadata": {},
   "source": [
    "7. Напишите программу Python для подсчета количества строк, у которых\n",
    "длина строки равна 2 или более, а первый и последний символы\n",
    "совпадают..\n",
    "Пример списка: ['abc', 'xyz', 'aba', '1221']"
   ]
  },
  {
   "cell_type": "code",
   "execution_count": 129,
   "metadata": {},
   "outputs": [
    {
     "name": "stdout",
     "output_type": "stream",
     "text": [
      "Введите строку: zoooz\n",
      "Правильная строка\n"
     ]
    }
   ],
   "source": [
    "stroka=input(\"Введите строку: \")\n",
    "tekushaya_n=0\n",
    "posl_element=len(stroka)-1\n",
    "d=len(stroka)\n",
    "while tekushaya_n<posl_element:\n",
    "    if stroka[tekushaya_n]!=stroka[posl_element]:\n",
    "        print(\"Несовместимая строка!\") \n",
    "        break\n",
    "    tekushaya_n+=1\n",
    "    posl_element-=1\n",
    "if stroka[tekushaya_n]==stroka[posl_element] and d>=2:\n",
    "    print(\"Правильная строка\")\n",
    "else:\n",
    "    print(\"Введите строку больше двух символов\")\n"
   ]
  },
  {
   "cell_type": "markdown",
   "metadata": {},
   "source": [
    "8. Напишите программу Python для получения списка, отсортированного\n",
    "в порядке возрастания по последнему элементу в каждом кортеже из\n",
    "заданного списка непустых кортежей.\n",
    "Примерный список: [(2, 5), (1, 2), (4, 4), (2, 3), (2, 1)]\n",
    "Ожидаемый результат: [(2, 1), (1, 2), (2, 3), (4, 4), (2, 5)]"
   ]
  },
  {
   "cell_type": "code",
   "execution_count": 155,
   "metadata": {},
   "outputs": [
    {
     "name": "stdout",
     "output_type": "stream",
     "text": [
      "Примерный список:  [(2, 1), (1, 2), (4, 4), (2, 3), (2, 1)]\n",
      "Примерный список:  [(2, 1), (2, 1), (1, 2), (2, 3), (4, 4)]\n"
     ]
    }
   ],
   "source": [
    "krt1=(2,1)\n",
    "krt2=(1,2)\n",
    "krt3=(4,4)\n",
    "krt4=(2,3)\n",
    "krt5=(2,1)\n",
    "def second_element(i):\n",
    "    return i[1]\n",
    "first_list=[krt1,krt2,krt3,krt4,krt5]\n",
    "print(\"Примерный список: \",first_list)\n",
    "filter_list=sorted(first_list,key=second_element)\n",
    "print(\"Примерный список: \",filter_list)"
   ]
  },
  {
   "cell_type": "markdown",
   "metadata": {},
   "source": [
    "9. Напишите программу на Python, чтобы получить строку, состоящую из\n",
    "первых двух и последних двух символов заданной строки. Если длина\n",
    "строки меньше 2, верните вместо нее пустую строку."
   ]
  },
  {
   "cell_type": "code",
   "execution_count": 163,
   "metadata": {},
   "outputs": [
    {
     "name": "stdout",
     "output_type": "stream",
     "text": [
      "Введите строку: trtrgegwos\n",
      "tros\n"
     ]
    }
   ],
   "source": [
    "stroka=str(input(\"Введите строку: \"))\n",
    "dlina=len(stroka)\n",
    "if dlina>2:\n",
    "    first=stroka[:2]\n",
    "    second=stroka[-2:]\n",
    "    result=str(first)+str(second)\n",
    "    print(result)\n",
    "else:\n",
    "    print(\"\")"
   ]
  },
  {
   "cell_type": "markdown",
   "metadata": {},
   "source": [
    "10.Напишите программу Python, чтобы получить одну строку из двух\n",
    "заданных строк, разделенных пробелом, и поменять местами первые\n",
    "два символа каждой строки.\n",
    "Пример строки: 'abc', 'xyz'\n",
    "Ожидаемый результат: 'xyc abz'"
   ]
  },
  {
   "cell_type": "code",
   "execution_count": 185,
   "metadata": {},
   "outputs": [
    {
     "name": "stdout",
     "output_type": "stream",
     "text": [
      "abc xyz\n"
     ]
    },
    {
     "data": {
      "text/plain": [
       "'xyc abz'"
      ]
     },
     "execution_count": 185,
     "metadata": {},
     "output_type": "execute_result"
    }
   ],
   "source": [
    "str1,str2=input(\"Введите две строки через пробел\").split()\n",
    "result1=str1.replace(str1[:2],str2[:2])+str2.replace(str2[:2],str1[:2])\n",
    "' '.join([result1[i:i+3] for i in range(0, len(result1), 3)])"
   ]
  },
  {
   "cell_type": "markdown",
   "metadata": {},
   "source": [
    "11. Напишите программу Python, которая добавляла бы 'ing' в конец\n",
    "заданной строки (длина должна быть не менее 3). Если данная строка\n",
    "уже заканчивается на 'ing', тогда добавьте 'ly'. Если длина данной\n",
    "строки меньше 3, оставьте ее без изменений.\n",
    "Пример строки: 'abc'\n",
    "Ожидаемый результат: abcing\n",
    "Пример строки: string\n",
    "Ожидаемый результат: stringly"
   ]
  },
  {
   "cell_type": "code",
   "execution_count": 214,
   "metadata": {},
   "outputs": [
    {
     "name": "stdout",
     "output_type": "stream",
     "text": [
      "Введите строку:string\n",
      "stringly\n"
     ]
    }
   ],
   "source": [
    "stroka=input(\"Введите строку:\")\n",
    "dlina=len(stroka)\n",
    "if dlina>=3:\n",
    "    if stroka[-3:]!='ing':\n",
    "        resultat=stroka+'ing'\n",
    "        print(resultat)\n",
    "    if stroka[-3:]=='ing':\n",
    "        resultat=stroka+'ly'\n",
    "        print(resultat)\n"
   ]
  },
  {
   "cell_type": "markdown",
   "metadata": {},
   "source": [
    "12.Напишите функцию Python, которая принимает список слов и\n",
    "возвращает длину самого длинного из них"
   ]
  },
  {
   "cell_type": "code",
   "execution_count": 8,
   "metadata": {},
   "outputs": [
    {
     "name": "stdout",
     "output_type": "stream",
     "text": [
      "Введите список слов: fvjn knvjcm\n",
      "Самое длинное слово:   knvjcm  длина:  6\n"
     ]
    }
   ],
   "source": [
    "def main():\n",
    "    stroka = sorted(input(\"Введите список слов: \").split(), key=len) [-1]\n",
    "    print (\"Самое длинное слово:  \", str(stroka), \" длина: \", str(len(stroka)))\n",
    "main()  \n"
   ]
  },
  {
   "cell_type": "markdown",
   "metadata": {},
   "source": [
    "13. Дан массив целых чисел, найдите тот, который встречается нечетное\n",
    "количество раз.\n",
    "Всегда будет только одно целое число, которое встречается нечетное\n",
    "количество раз."
   ]
  },
  {
   "cell_type": "code",
   "execution_count": 24,
   "metadata": {},
   "outputs": [
    {
     "name": "stdout",
     "output_type": "stream",
     "text": [
      "1 2 2 3 3 1 1\n",
      "1\n"
     ]
    }
   ],
   "source": [
    "stroka=input()\n",
    "stroka=list(stroka)\n",
    "for tekushaya_s in stroka:\n",
    "        n=0\n",
    "        for tekushaya_s2 in stroka:\n",
    "            if tekushaya_s==tekushaya_s2:\n",
    "                n+=1\n",
    "        if n%2>0:\n",
    "            result = tekushaya_s\n",
    "            break           \n",
    "print(result)"
   ]
  },
  {
   "cell_type": "markdown",
   "metadata": {},
   "source": [
    "14. B диапазонe первых 10 чисел, выполните итерацию от начального\n",
    "числа до конечного числа и выведите сумму текущего числа и\n",
    "предыдущего числа.\n",
    "Вывод суммы текущего и предыдущего чисел в заданном диапазоне\n",
    "(10)\n",
    "##### Текущее число 0 Предыдущее число 0 Сумма: 0\n",
    "##### Текущее число 1 Предыдущее число 0 Сумма: 1\n",
    "##### Текущее число 2 Предыдущее число 1 Сумма: 3\n",
    "##### Текущее число 3 Предыдущее число 2 Сумма: 5\n",
    "##### Текущее число 4 Предыдущее число 3 Сумма: 7\n",
    "##### Текущее число 5 Предыдущее число 4 Сумма: 9\n",
    "##### Текущее число 6 Предыдущее число 5 Сумма: 11\n",
    "##### Текущее число 7 Предыдущее число 6 Сумма: 13\n",
    "##### Текущее число 8 Предыдущее число 7 Сумма: 15\n",
    "##### Текущее число 9 Предыдущее число 8 Сумма: 17\n"
   ]
  },
  {
   "cell_type": "code",
   "execution_count": 59,
   "metadata": {},
   "outputs": [
    {
     "name": "stdout",
     "output_type": "stream",
     "text": [
      "текущее число:  1 Предыдущее:  0 Сумма: 1\n",
      "текущее число:  2 Предыдущее:  1 Сумма: 3\n",
      "текущее число:  3 Предыдущее:  2 Сумма: 5\n",
      "текущее число:  4 Предыдущее:  3 Сумма: 7\n",
      "текущее число:  5 Предыдущее:  4 Сумма: 9\n",
      "текущее число:  6 Предыдущее:  5 Сумма: 11\n",
      "текущее число:  7 Предыдущее:  6 Сумма: 13\n",
      "текущее число:  8 Предыдущее:  7 Сумма: 15\n",
      "текущее число:  9 Предыдущее:  8 Сумма: 17\n",
      "текущее число:  10 Предыдущее:  9 Сумма: 19\n"
     ]
    }
   ],
   "source": [
    "tekushaya1=0\n",
    "for tekushaya in range(10):\n",
    "    tekushaya1=tekushaya+1\n",
    "    summa=tekushaya1+tekushaya\n",
    "    print(\"текущее число: \",tekushaya1,\"Предыдущее: \",tekushaya,\"Сумма:\",summa)\n",
    "    "
   ]
  },
  {
   "cell_type": "markdown",
   "metadata": {},
   "source": [
    "15.Отобразить только буквы на нечетном индексе слова.\n",
    "Например, str = \"hello there\", вывод \"h\", \"l\", \"o\", \"t\" ,”e”, “e”"
   ]
  },
  {
   "cell_type": "code",
   "execution_count": 86,
   "metadata": {},
   "outputs": [
    {
     "name": "stdout",
     "output_type": "stream",
     "text": [
      "Введите строку: hello there\n",
      "['h', 'l', 'o', 't', 'e', 'e']\n"
     ]
    }
   ],
   "source": [
    "stroka = input(\"Введите строку: \")\n",
    "print(list(stroka[0::2]))\n"
   ]
  },
  {
   "cell_type": "markdown",
   "metadata": {},
   "source": [
    "16.Из списка вернуть True, если первый и последний номер списка\n",
    "совпадают\n",
    "##### список ввода: [10, 20, 30, 40, 10]\n",
    "результат True\n",
    "##### список ввода: [10, 20, 30, 40, 50]\n",
    "результат False"
   ]
  },
  {
   "cell_type": "code",
   "execution_count": 96,
   "metadata": {},
   "outputs": [
    {
     "name": "stdout",
     "output_type": "stream",
     "text": [
      "10 20 30 40 50\n",
      "False\n"
     ]
    }
   ],
   "source": [
    "mylist=input(\"Введите список ввода: \").split()\n",
    "posl_elem=len(mylist)-1\n",
    "if mylist[0]==mylist[posl_elem]:\n",
    "    print(\"True\")\n",
    "else:\n",
    "    print(\"False\")"
   ]
  },
  {
   "cell_type": "markdown",
   "metadata": {},
   "source": [
    "17. Напишите функцию, которая принимает в качестве аргументов строку и целое число и возвращает новую строку с удаленными символами от нуля до n \n",
    "##### Например, removeChars (\"hello there!\", 4), вывод : (o there).\n",
    "Примечание: n должно быть меньше длины строки."
   ]
  },
  {
   "cell_type": "code",
   "execution_count": 116,
   "metadata": {},
   "outputs": [
    {
     "name": "stdout",
     "output_type": "stream",
     "text": [
      "hello there 4\n",
      "o there \n"
     ]
    }
   ],
   "source": [
    "def del_simvoly(string, index):\n",
    "    result_str = list(string) \n",
    "    del result_str[:index] \n",
    "    return print(\"\".join(result_str) )\n",
    "\n",
    "string=input()\n",
    "n=0\n",
    "dlina=len(string)\n",
    "stringfilter=string[:-1]\n",
    "if n<dlina:\n",
    "    n=int(string[-1:])\n",
    "    del_simvoly(stringfilter,n)\n",
    "    \n",
    "\n",
    "    "
   ]
  },
  {
   "cell_type": "markdown",
   "metadata": {},
   "source": [
    "18.Возьмите два списка чисел и верните True, если первое и последнее\n",
    "число в списке(ах) совпадают.\n",
    "##### список: [10, 20, 30, 40, 10]\n",
    "результат True\n",
    "##### список: [10, 20, 30, 40, 50]\n",
    "результат False"
   ]
  },
  {
   "cell_type": "code",
   "execution_count": 147,
   "metadata": {},
   "outputs": [
    {
     "name": "stdout",
     "output_type": "stream",
     "text": [
      "Введите числа первой строки10 20 40 \n",
      "Введите числа второй строки10 20 70\n",
      "False\n"
     ]
    }
   ],
   "source": [
    "def spiski(s1,s2):\n",
    "    if s1[0]==s2[-1]:\n",
    "        print(\"True\")\n",
    "    else:\n",
    "        print(\"False\")\n",
    "string1=input(\"Введите числа первой строки: \".split()\n",
    "string2=input(\"Введите числа второй строки: \".split()\n",
    "spiski(string1,string2)\n"
   ]
  },
  {
   "cell_type": "markdown",
   "metadata": {},
   "source": [
    "19.Из списка чисел выведите только числа, которые делятся на 5\n",
    "список: [10, 20, 33, 46, 55]\n",
    "10\n",
    "20\n",
    "55"
   ]
  },
  {
   "cell_type": "code",
   "execution_count": 159,
   "metadata": {},
   "outputs": [
    {
     "name": "stdout",
     "output_type": "stream",
     "text": [
      "55\n",
      "20\n",
      "10\n"
     ]
    }
   ],
   "source": [
    "mylist=[55,46,33,20,10]\n",
    "for tek in mylist:\n",
    "    if tek%5==0:\n",
    "        mylist=tek\n",
    "        print(mylist)\n",
    "        "
   ]
  },
  {
   "cell_type": "markdown",
   "metadata": {},
   "source": [
    "20.Возьмите число и выведите True, если это то же самое число, читаемое\n",
    "в обратном направлении, и False в противном случае\n",
    "121 -> True 125 -> False\n"
   ]
  },
  {
   "cell_type": "code",
   "execution_count": 170,
   "metadata": {},
   "outputs": [
    {
     "name": "stdout",
     "output_type": "stream",
     "text": [
      "Введите любое число:125\n",
      "False\n"
     ]
    }
   ],
   "source": [
    "chislo=input(\"Введите любое число:\")\n",
    "obratnaya=chislo[::-1]\n",
    "if int(chislo)==int(obratnaya):\n",
    "    print(\"True\")\n",
    "else:\n",
    "    print(\"False\")\n"
   ]
  },
  {
   "cell_type": "markdown",
   "metadata": {},
   "source": [
    "21.Возьмите два списка целых чисел и создайте новый список,\n",
    "содержащий нечетные числа из первого списка и четные числа из\n",
    "второго списка\n",
    "###### Первый список [10, 20, 23, 11, 17]\n",
    "###### Второй список [13, 43, 24, 36, 12]\n"
   ]
  },
  {
   "cell_type": "code",
   "execution_count": 79,
   "metadata": {},
   "outputs": [
    {
     "name": "stdout",
     "output_type": "stream",
     "text": [
      "[23, 11, 17, 24, 36, 12]\n"
     ]
    }
   ],
   "source": [
    "def novyispisok(s1,s2):\n",
    "    spisok=[]\n",
    "    spisok =s1+s2\n",
    "    print(spisok)\n",
    "pervyi=[10,20,23,11,17]\n",
    "vtoroi=[13,43,24,36,12]\n",
    "stroka=[]\n",
    "stroka_2=[]\n",
    "for i in pervyi:\n",
    "    if i%2!=0:\n",
    "        stroka.append(i)\n",
    "for j in vtoroi:\n",
    "    if j%2==0:\n",
    "        stroka_2.append(j)\n",
    "novyispisok(stroka,stroka_2)\n",
    "        "
   ]
  },
  {
   "cell_type": "markdown",
   "metadata": {},
   "source": [
    "22.Распечатайте следующий шаблон, используя только цикл for\n",
    "##### 1\n",
    "##### 1 2\n",
    "##### 1 2 3\n",
    "##### 1 2 3 4\n",
    "##### 1 2 3 4 5"
   ]
  },
  {
   "cell_type": "code",
   "execution_count": 54,
   "metadata": {},
   "outputs": [
    {
     "name": "stdout",
     "output_type": "stream",
     "text": [
      "1\n",
      "1 2\n",
      "1 2 3\n",
      "1 2 3 4\n",
      "1 2 3 4 5\n"
     ]
    }
   ],
   "source": [
    "s = ''\n",
    "for i in range(1, 5+1):\n",
    "    s = s + str(i) \n",
    "    print(' '.join(s))"
   ]
  },
  {
   "cell_type": "markdown",
   "metadata": {},
   "source": [
    "23.Возьмите целое число от пользователя и вычислите сумму всех чисел от 1\n",
    "до данного числа, используя цикл for in : 10 out :55"
   ]
  },
  {
   "cell_type": "code",
   "execution_count": 83,
   "metadata": {},
   "outputs": [
    {
     "name": "stdout",
     "output_type": "stream",
     "text": [
      "10\n",
      "55\n"
     ]
    }
   ],
   "source": [
    "ot = 1\n",
    "do = int(input(\"Введите число до которого нужно суммировать: \"))\n",
    "summa = 0 \n",
    "tekushaya = ot\n",
    "while tekushaya <= do:\n",
    "    summa += tekushaya\n",
    "    tekushaya += 1\n",
    "print(summa)"
   ]
  },
  {
   "cell_type": "markdown",
   "metadata": {},
   "source": [
    "24.Возьмите и целое число от пользователя и распечатайте таблицу\n",
    "умножения для этого числа"
   ]
  },
  {
   "cell_type": "code",
   "execution_count": 87,
   "metadata": {},
   "outputs": [
    {
     "name": "stdout",
     "output_type": "stream",
     "text": [
      "Введите число: 1\n",
      "1  *  1  равно = 1\n",
      "1  *  2  равно = 2\n",
      "1  *  3  равно = 3\n",
      "1  *  4  равно = 4\n",
      "1  *  5  равно = 5\n",
      "1  *  6  равно = 6\n",
      "1  *  7  равно = 7\n",
      "1  *  8  равно = 8\n",
      "1  *  9  равно = 9\n",
      "1  *  10  равно = 10\n"
     ]
    }
   ],
   "source": [
    "number=int(input(\"Введите число: \"))\n",
    "if number!=0:\n",
    "    for tek in range(1,10+1):\n",
    "        umnozhit=number*tek\n",
    "        print(number,\" * \",tek,\" равно =\",umnozhit)"
   ]
  },
  {
   "cell_type": "markdown",
   "metadata": {},
   "source": [
    "25.Возьмите целое число от пользователя и посчитайте, сколько цифр в этом\n",
    "числе 1234 -> 4 12 -> 2"
   ]
  },
  {
   "cell_type": "code",
   "execution_count": 91,
   "metadata": {},
   "outputs": [
    {
     "name": "stdout",
     "output_type": "stream",
     "text": [
      "Введите число: 10000000\n",
      "8\n"
     ]
    }
   ],
   "source": [
    "number=int(input(\"Введите число: \"))\n",
    "sum_cifer=len(str(number))\n",
    "print(sum_cifer)"
   ]
  },
  {
   "cell_type": "markdown",
   "metadata": {},
   "source": [
    "26. Напишите функцию вычисления () так, чтобы она могла принимать две\n",
    "переменные и возвращать их сумму и умножение в одном операторе\n",
    "возврата."
   ]
  },
  {
   "cell_type": "code",
   "execution_count": 5,
   "metadata": {},
   "outputs": [
    {
     "name": "stdout",
     "output_type": "stream",
     "text": [
      "Введите переменную 1: 4\n",
      "Введите переменную 2: 4\n"
     ]
    },
    {
     "data": {
      "text/plain": [
       "(8, 16)"
      ]
     },
     "execution_count": 5,
     "metadata": {},
     "output_type": "execute_result"
    }
   ],
   "source": [
    "def functiontwo(a,t):\n",
    "    return(a+t,a*t)\n",
    "functiontwo(int(input(\"Введите переменную 1: \")),int(input(\"Введите переменную 2: \")))"
   ]
  },
  {
   "cell_type": "code",
   "execution_count": null,
   "metadata": {},
   "outputs": [],
   "source": []
  }
 ],
 "metadata": {
  "kernelspec": {
   "display_name": "Python 3",
   "language": "python",
   "name": "python3"
  },
  "language_info": {
   "codemirror_mode": {
    "name": "ipython",
    "version": 3
   },
   "file_extension": ".py",
   "mimetype": "text/x-python",
   "name": "python",
   "nbconvert_exporter": "python",
   "pygments_lexer": "ipython3",
   "version": "3.8.3"
  }
 },
 "nbformat": 4,
 "nbformat_minor": 4
}
