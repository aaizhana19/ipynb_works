{
 "cells": [
  {
   "cell_type": "markdown",
   "metadata": {},
   "source": [
    "##### 1.List comprehension\n",
    "Создайте список целых чисел, которые определяют длину каждого слова в определенном\n",
    "предложении, но только если слово не является словом «the».\n",
    "input: “the quick brown fox jumps over the lazy dog\"\n",
    "output: [5, 5, 3, 5, 4, 4, 3]"
   ]
  },
  {
   "cell_type": "code",
   "execution_count": 8,
   "metadata": {},
   "outputs": [
    {
     "name": "stdout",
     "output_type": "stream",
     "text": [
      "the quick brown fox jumps over the lazy dog\n",
      "[5, 5, 3, 5, 4, 4, 3]\n"
     ]
    }
   ],
   "source": [
    "mylist=input().split()\n",
    "print([len(word) for word in mylist if word!=\"the\"])"
   ]
  },
  {
   "cell_type": "markdown",
   "metadata": {},
   "source": [
    "##### 2.List comprehension\n",
    "Из заданного списка чисел вернуть список, в котором все четные числа удвоены, а все\n",
    "нечетные числа отрицательны.\n",
    "input: [72, 26, 79, 70, 20, 68, 43, -71, 71, -2]\n",
    "output: [144, 52, -79, 140, 40, 136, -43, 71, -71, -4]"
   ]
  },
  {
   "cell_type": "code",
   "execution_count": 39,
   "metadata": {},
   "outputs": [
    {
     "name": "stdout",
     "output_type": "stream",
     "text": [
      "[144, 52, -79, 140, 40, 136, -43, 71, -71, -4]\n"
     ]
    }
   ],
   "source": [
    "mylist=[72, 26, 79, 70, 20, 68, 43, -71, 71, -2]\n",
    "print([num*2 if num%2==0 else -num for num in mylist])"
   ]
  },
  {
   "cell_type": "markdown",
   "metadata": {},
   "source": [
    "##### 3.Создайте следующий вложенный список, используя list comprehension\n",
    "output: [[0, 1, 2, 3], [0, 1, 2, 3], [0, 1, 2, 3]]\n"
   ]
  },
  {
   "cell_type": "code",
   "execution_count": 44,
   "metadata": {},
   "outputs": [
    {
     "data": {
      "text/plain": [
       "[[0, 1, 2, 3], [0, 1, 2, 3], [0, 1, 2, 3]]"
      ]
     },
     "execution_count": 44,
     "metadata": {},
     "output_type": "execute_result"
    }
   ],
   "source": [
    "mylist = [[i for i in range(3+1)] for _ in range(2+1)]\n",
    "mylist"
   ]
  },
  {
   "cell_type": "markdown",
   "metadata": {},
   "source": [
    "##### 4.Из заданного списка чисел напишите list comprehension, которое создает список строк\n",
    "каждого числа, которое делится на 5.\n",
    "input: [25, 91, 22, -7, -20]\n",
    "output: [’25', '-20']"
   ]
  },
  {
   "cell_type": "code",
   "execution_count": 57,
   "metadata": {},
   "outputs": [
    {
     "name": "stdout",
     "output_type": "stream",
     "text": [
      "[25, -20]\n"
     ]
    }
   ],
   "source": [
    "mylist=[25, 91, 22, -7, -20]\n",
    "print([i for i in mylist if i%5==0])"
   ]
  },
  {
   "cell_type": "markdown",
   "metadata": {},
   "source": [
    "##### 5.Удалите все гласные в строке (aeiou), используя list comprehension\n",
    "input: \"the quick brown fox jumps over the lazy dog\"\n",
    "output: “th qck brwn fx jmps vr th lzy dg”"
   ]
  },
  {
   "cell_type": "code",
   "execution_count": 17,
   "metadata": {},
   "outputs": [
    {
     "name": "stdout",
     "output_type": "stream",
     "text": [
      "the quick brown fox jumps over the lazy dog\n",
      "th qck brwn fx jmps vr th lzy dg\n"
     ]
    }
   ],
   "source": [
    "print(''.join(s for s in input().lower() if s not in 'aeiou'))\n"
   ]
  },
  {
   "cell_type": "markdown",
   "metadata": {},
   "source": [
    "##### 6.Напишите класс Python Circle, который имеет два метода, которые будут вычислять\n",
    "площадь и периметр круга для радиуса, который был передан в конструктор."
   ]
  },
  {
   "cell_type": "code",
   "execution_count": 28,
   "metadata": {},
   "outputs": [
    {
     "name": "stdout",
     "output_type": "stream",
     "text": [
      "20\n",
      "Площадь круга :  1256.64 \n",
      "Периметр круга:  125.66\n"
     ]
    }
   ],
   "source": [
    "import math \n",
    "class Circle:\n",
    "    def CirclePlo(self,radius):\n",
    "        p=math.pi\n",
    "        r=radius\n",
    "        S=p*(r**2)\n",
    "        return S\n",
    "    def CirclePerimetr(self,radius):\n",
    "        p=math.pi\n",
    "        r=radius\n",
    "        P=2*p*r\n",
    "        return P\n",
    "c= Circle()\n",
    "n=int(input())\n",
    "Plo = c.CirclePlo(n)\n",
    "Perimetr = c.CirclePerimetr(n)\n",
    "print(\"Площадь круга : \",round(Plo,2),\"\\nПериметр круга: \",round(Perimetr,2))\n"
   ]
  },
  {
   "cell_type": "markdown",
   "metadata": {},
   "source": [
    "##### 7.Напишите класс Python Rectangle, который принимает длину и ширину в конструктор и\n",
    "имеет два метода, вычисляющих площадь и периметр.\n"
   ]
  },
  {
   "cell_type": "code",
   "execution_count": 29,
   "metadata": {},
   "outputs": [
    {
     "name": "stdout",
     "output_type": "stream",
     "text": [
      "2\n",
      "4\n",
      "Площадь прямоугольника:  8 \n",
      "Периметр прямоугольника:  12\n"
     ]
    }
   ],
   "source": [
    "class Rectangle:\n",
    "    def RectanglePlo(self,a,b):\n",
    "        S=a*b\n",
    "        return S\n",
    "    def RectanglePerimetr(self,a,b):\n",
    "        P=2*(a+b)\n",
    "        return P\n",
    "dlina=int(input())\n",
    "wirina=int(input())\n",
    "c=Rectangle()\n",
    "Plo=c.RectanglePlo(dlina,wirina)\n",
    "Perimetr=c.RectanglePerimetr(dlina,wirina)\n",
    "print(\"Площадь прямоугольника: \",Plo,\"\\nПериметр прямоугольника: \",Perimetr)"
   ]
  },
  {
   "cell_type": "markdown",
   "metadata": {},
   "source": [
    "##### 8.Создайте класс Student и передайте его имя и курс в конструктор. У класса должны быть\n",
    "следующие методы:\n",
    "1. displayStudent - должен отображать всю информацию об ученике.\n",
    "2. setAge - назначает возраст ученика\n",
    "3. setMarks - выставляет оценки студенту"
   ]
  },
  {
   "cell_type": "code",
   "execution_count": 88,
   "metadata": {},
   "outputs": [
    {
     "name": "stdout",
     "output_type": "stream",
     "text": [
      "Mila\n",
      "4\n",
      "Name: Mila \n",
      "Course:  1\n",
      "Age: 22 years\n",
      "Mark:  81\n"
     ]
    }
   ],
   "source": [
    "import random\n",
    "class Student:\n",
    "    def displayStudent(self,name,course):\n",
    "        s=\"Name: \"+name\n",
    "        return s\n",
    "    def setAge(self,course):\n",
    "        s=course\n",
    "        if s==1:\n",
    "            return \"Age: 19 years\"\n",
    "        if s==2:\n",
    "            return \"Age: 20 years\"\n",
    "        if s==3:\n",
    "            return \"Age: 21 years\"\n",
    "        if s==4:\n",
    "            return \"Age: 22 years\"\n",
    "        else:\n",
    "            return \"Error!Please rewrite correct course.\"         \n",
    "    def setMarks(self):\n",
    "        M=random.randint(60,100)\n",
    "        return M  \n",
    "n=input()\n",
    "c=int(input())\n",
    "s=Student()\n",
    "print(s.displayStudent(n,c),\"\\nCourse: \",course)\n",
    "print(s.setAge(c))\n",
    "print(\"Mark: \",s.setMarks())\n",
    "\n",
    "\n"
   ]
  },
  {
   "cell_type": "markdown",
   "metadata": {},
   "source": [
    "##### 9.Создайте класс Song в конструкторе, он будет принимать тексты песен как список и\n",
    "создать метод sing_me_a_song, который будет печатать значения списка на новой строке"
   ]
  },
  {
   "cell_type": "code",
   "execution_count": 92,
   "metadata": {},
   "outputs": [
    {
     "name": "stdout",
     "output_type": "stream",
     "text": [
      "\n",
      "Мокрый асфальт, серое лицо\n",
      "Ты найдёшь всё, что надо\n",
      "Любовь или клад в глубине лесов\n",
      "Только стёрлась помада\n",
      "Потолок-звездопад, пальцы на висок\n",
      "Глаза собраны в кучу\n",
      "Завтра снова мокрый асфальт, серое лицо\n",
      "Над тобой только тучи\n"
     ]
    }
   ],
   "source": [
    "class Song:\n",
    "    def __init__(self,song):\n",
    "        self.song=song\n",
    "    def sing_me_a_song(self):\n",
    "        for i in self.song:\n",
    "            print(i)\n",
    "pesnya=[\"\\nМокрый асфальт, серое лицо\"\n",
    "\"\\nТы найдёшь всё, что надо\"\n",
    "\"\\nЛюбовь или клад в глубине лесов\"\n",
    "\"\\nТолько стёрлась помада\"\n",
    "\"\\nПотолок-звездопад, пальцы на висок\"\n",
    "\"\\nГлаза собраны в кучу\"\n",
    "\"\\nЗавтра снова мокрый асфальт, серое лицо\"\n",
    "\"\\nНад тобой только тучи\"]\n",
    "songtxt=Song(pesnya)\n",
    "songtxt.sing_me_a_song()\n"
   ]
  },
  {
   "cell_type": "markdown",
   "metadata": {},
   "source": [
    "##### 10.Напишите класс Python, который имеет два метода get_string и print_string. \n",
    "get_string принимает строку от пользователя, а print_string печатает строку в верхнем регистре."
   ]
  },
  {
   "cell_type": "code",
   "execution_count": 99,
   "metadata": {},
   "outputs": [
    {
     "name": "stdout",
     "output_type": "stream",
     "text": [
      "Ijhgfc\n",
      "IJHGFC\n"
     ]
    }
   ],
   "source": [
    "class Strings:\n",
    "    def __init__(self,s):\n",
    "        self.s=s\n",
    "    def get_string(self):\n",
    "        stroka=self.s\n",
    "    def print_string(self):\n",
    "        print(self.s.upper())\n",
    "stroka=input()\n",
    "n=Strings(stroka)\n",
    "s=n.print_string()"
   ]
  },
  {
   "cell_type": "markdown",
   "metadata": {},
   "source": [
    "##### 11.Напишите функцию Python, чтобы проверить, является ли строка панграммой.\n",
    "Примечание. Панграммы - это слова или предложения, содержащие каждую букву алфавита хотя бы\n",
    "один раз.\n"
   ]
  },
  {
   "cell_type": "code",
   "execution_count": 115,
   "metadata": {},
   "outputs": [
    {
     "data": {
      "text/plain": [
       "True"
      ]
     },
     "execution_count": 115,
     "metadata": {},
     "output_type": "execute_result"
    }
   ],
   "source": [
    "is_pangram = lambda s: not set('abcdefghijklmnopqrstuvwxyz') - set(s.lower())\n",
    "is_pangram(\"the quick brown fox jumps over the lazy dog\")"
   ]
  },
  {
   "cell_type": "markdown",
   "metadata": {},
   "source": [
    "##### 12.Напишите функцию Python, которая выводит первые n строк треугольника Паскаля.\n",
    "Примечание. Треугольник Паскаля - это арифметическая и геометрическая фигура, впервые\n",
    "представленная Блезом Паскалем"
   ]
  },
  {
   "cell_type": "code",
   "execution_count": 4,
   "metadata": {},
   "outputs": [
    {
     "name": "stdout",
     "output_type": "stream",
     "text": [
      "4\n",
      "1\n",
      "1\t1\n",
      "1\t2\t1\n",
      "1\t3\t3\t1\n"
     ]
    }
   ],
   "source": [
    "n = int(input())\n",
    "start = ['1']\n",
    "print(start[0])\n",
    "for i in range(n - 1):\n",
    "    start_1 = start.copy()\n",
    "    start.clear()\n",
    "    start = [str(int(start_1[j]) + int(start_1[j + 1])) for j in range(len(start_1) - 1)]\n",
    "    start.insert(0, '1')\n",
    "    start.append('1')\n",
    "    print('\\t'.join(start))"
   ]
  },
  {
   "cell_type": "markdown",
   "metadata": {},
   "source": [
    "##### 13.Напишите программу Python для построения следующего шаблона, используя вложенный цикл for"
   ]
  },
  {
   "cell_type": "code",
   "execution_count": 138,
   "metadata": {},
   "outputs": [
    {
     "name": "stdout",
     "output_type": "stream",
     "text": [
      "5\n",
      "* \n",
      "* * \n",
      "* * * \n",
      "* * * * \n",
      "* * * * * \n",
      "* * * * \n",
      "* * * \n",
      "* * \n",
      "* \n",
      "\n"
     ]
    }
   ],
   "source": [
    "n=int(input())\n",
    "for i in range (0,n):\n",
    "    for j in range(0, i + 1):\n",
    "        print(\"* \", end='')\n",
    "    print(\"\\r\")\n",
    "for i in range (n, 0, -1):\n",
    "    for j in range(0, i -1):\n",
    "        print(\"* \", end='')\n",
    "    print(\"\\r\")\n"
   ]
  },
  {
   "cell_type": "markdown",
   "metadata": {},
   "source": [
    "##### 14.Напишите функцию Python для поиска медианы трех значений с помощью тернарного оператора.\n",
    "Ожидаемый результат:\n",
    "Input first number: 15\n",
    "Input second number: 26\n",
    "Input third number: 29\n",
    "The median is 26.0"
   ]
  },
  {
   "cell_type": "code",
   "execution_count": 128,
   "metadata": {},
   "outputs": [
    {
     "name": "stdout",
     "output_type": "stream",
     "text": [
      "15\n",
      "26\n",
      "28\n"
     ]
    },
    {
     "data": {
      "text/plain": [
       "26"
      ]
     },
     "execution_count": 128,
     "metadata": {},
     "output_type": "execute_result"
    }
   ],
   "source": [
    "def mediana(a,b,c):\n",
    "    return a if b<a<c else b if a<b<c else c if a<c<b else b\n",
    "    \n",
    "a=int(input())\n",
    "b=int(input())\n",
    "c=int(input())\n",
    "mediana(a,b,c)"
   ]
  },
  {
   "cell_type": "markdown",
   "metadata": {},
   "source": [
    "##### 15.Напишите программу Python для перестановки положительных и отрицательных чисел в заданном\n",
    "массиве с помощью Lambda.\n",
    "Original arrays:\n",
    "[-1, 2, -3, 5, 7, 8, 9, -10]\n",
    "Rearrange positive and negative numbers of the said array:\n",
    "[2, 5, 7, 8, 9, -10, -3, -1]"
   ]
  },
  {
   "cell_type": "code",
   "execution_count": 157,
   "metadata": {},
   "outputs": [
    {
     "name": "stdout",
     "output_type": "stream",
     "text": [
      "[2, 5, 7, 8, 9, -1, -3, -10]\n"
     ]
    }
   ],
   "source": [
    "pred=[-1, 2, -3, 5, 7, 8, 9, -10]\n",
    "print(sorted(pred,key=lambda x: x<0))\n",
    "\n"
   ]
  },
  {
   "cell_type": "markdown",
   "metadata": {},
   "source": [
    "##### 16.Напишите программу Python для подсчета частоты слов в файле"
   ]
  },
  {
   "cell_type": "code",
   "execution_count": 181,
   "metadata": {},
   "outputs": [
    {
     "data": {
      "text/plain": [
       "Counter({'мокрый': 2,\n",
       "         'асфальт,': 2,\n",
       "         'серое': 2,\n",
       "         'лицо': 2,\n",
       "         'ты': 1,\n",
       "         'найдёшь': 1,\n",
       "         'всё,': 1,\n",
       "         'что': 1,\n",
       "         'надо': 1,\n",
       "         'любовь': 1,\n",
       "         'или': 1,\n",
       "         'клад': 1,\n",
       "         'в': 2,\n",
       "         'глубине': 1,\n",
       "         'лесов': 1,\n",
       "         'только': 2,\n",
       "         'стёрлась': 1,\n",
       "         'помада': 1,\n",
       "         'потолок-звездопад,': 1,\n",
       "         'пальцы': 1,\n",
       "         'на': 1,\n",
       "         'висок': 1,\n",
       "         'глаза': 1,\n",
       "         'собраны': 1,\n",
       "         'кучу': 1,\n",
       "         'завтра': 1,\n",
       "         'снова': 1,\n",
       "         'над': 1,\n",
       "         'тобой': 1,\n",
       "         'тучи': 1})"
      ]
     },
     "execution_count": 181,
     "metadata": {},
     "output_type": "execute_result"
    }
   ],
   "source": [
    "from collections import Counter\n",
    "file = open('C:\\\\Users\\\\Айдана\\\\.ipynb_checkpoints\\\\example.txt', 'r')\n",
    "text_string = file.read().lower().split()\n",
    "podchet=Counter(text_string)\n",
    "podchet"
   ]
  },
  {
   "cell_type": "markdown",
   "metadata": {},
   "source": [
    "##### 17.Напишите программу Python, которая объединяет каждую строку из первого файла с\n",
    "соответствующей строкой во втором файле."
   ]
  },
  {
   "cell_type": "code",
   "execution_count": 12,
   "metadata": {},
   "outputs": [
    {
     "data": {
      "text/plain": [
       "['Мокрый асфальт, серое лицоАйжан Айжан Айжан Айжан ',\n",
       " 'Ты найдёшь всё, что надоАйжан Айжан Айжан Айжан',\n",
       " 'Любовь или клад в глубине лесовАйжан Айжан Айжан Айжан',\n",
       " 'Только стёрлась помадаАйжан Айжан Айжан Айжан',\n",
       " 'Потолок-звездопад, пальцы на високАйжан Айжан Айжан Айжан',\n",
       " 'Глаза собраны в кучуАйжан Айжан Айжан Айжан',\n",
       " 'Завтра снова мокрый асфальт, серое лицоАйжан Айжан Айжан Айжан',\n",
       " 'Над тобой только тучиАйжан Айжан Айжан Айжан',\n",
       " '']"
      ]
     },
     "execution_count": 12,
     "metadata": {},
     "output_type": "execute_result"
    }
   ],
   "source": [
    "lines1 = open('C:\\\\Users\\\\Айдана\\\\.ipynb_checkpoints\\\\example.txt').read().split('\\n')\n",
    "lines2 = open('C:\\\\Users\\\\Айдана\\\\.ipynb_checkpoints\\\\example2.txt').read().split('\\n')\n",
    "combined_lines = []\n",
    "for i in range(len(lines1)):\n",
    "    combined_lines.append(lines1[i] + lines2[i])\n",
    "combined_lines"
   ]
  },
  {
   "cell_type": "markdown",
   "metadata": {},
   "source": [
    "##### 18.Напишите программу Python для копирования содержимого файла в другой файл"
   ]
  },
  {
   "cell_type": "code",
   "execution_count": 19,
   "metadata": {},
   "outputs": [
    {
     "data": {
      "text/plain": [
       "265"
      ]
     },
     "execution_count": 19,
     "metadata": {},
     "output_type": "execute_result"
    }
   ],
   "source": [
    "first_file = open('C:\\\\Users\\\\Айдана\\\\.ipynb_checkpoints\\\\example.txt')\n",
    "second_file = open('C:\\\\Users\\\\Айдана\\\\.ipynb_checkpoints\\\\example2.txt',\"w\")\n",
    "first_file_lines = first_file.readlines()\n",
    "second_file.write(str(first_file_lines))\n"
   ]
  },
  {
   "cell_type": "markdown",
   "metadata": {},
   "source": [
    "##### 19.Напишите программу Python для создания следующего большего числа, переставляя цифры данного\n",
    "числа.\n",
    "Original number: 12\n",
    "Next bigger number: 21\n",
    "Original number: 10\n",
    "Next bigger number: False\n",
    "Original number: 201\n",
    "Next bigger number: 210\n",
    "Original number: 102\n",
    "Next bigger number: 120\n",
    "Original number: 445\n",
    "Next bigger number: 454\n"
   ]
  },
  {
   "cell_type": "code",
   "execution_count": 9,
   "metadata": {},
   "outputs": [
    {
     "name": "stdout",
     "output_type": "stream",
     "text": [
      "Original number: 12\n",
      "Next bigger number: 21\n"
     ]
    }
   ],
   "source": [
    "def rearrange_bigger(n):\n",
    "    nums = list(str(n))\n",
    "    for i in range(len(nums)-2,-1,-1):\n",
    "        if nums[i] < nums[i+1]:\n",
    "            z = nums[i:]\n",
    "            y = min(filter(lambda x: x > z[0], z))\n",
    "            z.remove(y)\n",
    "            z.sort()\n",
    "            nums[i:] = [y] + z\n",
    "            return int(\"\".join(nums))\n",
    "    return False\n",
    "n = 12\n",
    "print(\"Original number:\",n)\n",
    "print(\"Next bigger number:\",rearrange_bigger(n))"
   ]
  },
  {
   "cell_type": "markdown",
   "metadata": {},
   "source": [
    "##### 20.Напишите программу Python, которая возводит элементы списка в квадрат, используя функцию map\n",
    "()."
   ]
  },
  {
   "cell_type": "code",
   "execution_count": 37,
   "metadata": {},
   "outputs": [
    {
     "name": "stdout",
     "output_type": "stream",
     "text": [
      "[1, 4, 9, 16, 100, 121, 144]\n"
     ]
    }
   ],
   "source": [
    "spisok=[1,2,3,4,10,11,12]\n",
    "print(list(map(lambda x: x*x,spisok)))"
   ]
  },
  {
   "cell_type": "code",
   "execution_count": null,
   "metadata": {},
   "outputs": [],
   "source": []
  }
 ],
 "metadata": {
  "kernelspec": {
   "display_name": "Python 3",
   "language": "python",
   "name": "python3"
  },
  "language_info": {
   "codemirror_mode": {
    "name": "ipython",
    "version": 3
   },
   "file_extension": ".py",
   "mimetype": "text/x-python",
   "name": "python",
   "nbconvert_exporter": "python",
   "pygments_lexer": "ipython3",
   "version": "3.8.3"
  }
 },
 "nbformat": 4,
 "nbformat_minor": 4
}
