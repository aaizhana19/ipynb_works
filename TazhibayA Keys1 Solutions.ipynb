{
 "cells": [
  {
   "cell_type": "markdown",
   "metadata": {},
   "source": [
    "### Student: Tazhibay Aizhan\n",
    "### Group: Business Analytics and Big Data(2 course)\n",
    "### Tutor: Zhumadil Nurbol Abdirakhymuly\n",
    "### Task 1(Types of data)"
   ]
  },
  {
   "cell_type": "markdown",
   "metadata": {},
   "source": [
    "Задача №1.\n",
    "У Тимура n друзей. Сделав проект они заработали b сумму денег.\n",
    "По сколько денег они должны получить, чтобы всем было поровну?\n",
    "Сколько денег останется у них на общие затраты?\n"
   ]
  },
  {
   "cell_type": "code",
   "execution_count": 57,
   "metadata": {},
   "outputs": [
    {
     "name": "stdout",
     "output_type": "stream",
     "text": [
      "Введите количество друзей Тимура: 6\n",
      "Введите сумму заработанных денег: 124000\n",
      "Деньги каждому: 20666 Останется 4\n"
     ]
    }
   ],
   "source": [
    "n=int(input(\"Введите количество друзей Тимура: \"))\n",
    "b=int(input(\"Введите сумму заработанных денег: \"))\n",
    "c=b//n\n",
    "d=b%n\n",
    "print(\"Деньги каждому:\",c,\"Останется\",d)\n"
   ]
  },
  {
   "cell_type": "markdown",
   "metadata": {},
   "source": [
    "Задача №2.\n",
    "Выходные данные\n",
    "Следующая цифра после 179 это 180.\n",
    "Предыдущая цифра перед 179 это 178.\n",
    "Использовать: 1 input, .format, \\n\n"
   ]
  },
  {
   "cell_type": "code",
   "execution_count": 5,
   "metadata": {},
   "outputs": [
    {
     "name": "stdout",
     "output_type": "stream",
     "text": [
      "10\n",
      "Следующая цифра после 10 это 11.\n",
      "Предыдущая цифра перед 10 это 9. \n"
     ]
    }
   ],
   "source": [
    "n=int(input())\n",
    "nextn=n+1\n",
    "lastn=n-1\n",
    "print(\"Следующая цифра после {0} это {1}.\\nПредыдущая цифра перед {0} это {2}. \".format(n,nextn,lastn))"
   ]
  },
  {
   "cell_type": "markdown",
   "metadata": {},
   "source": [
    "Задача №3.\n",
    "Сумма трехзначного числа. \n",
    "Пример n=872, что означает 8+7+2\n",
    "Output: 17 (двумя способами)\n"
   ]
  },
  {
   "cell_type": "code",
   "execution_count": 56,
   "metadata": {},
   "outputs": [
    {
     "name": "stdout",
     "output_type": "stream",
     "text": [
      "872\n",
      "17\n"
     ]
    }
   ],
   "source": [
    "n = int(input())\n",
    "first_num = n % 10\n",
    "n = n // 10\n",
    "second_num = n % 10\n",
    "n = n // 10\n",
    "result=n + first_num + second_num\n",
    "print(result)\n"
   ]
  },
  {
   "cell_type": "markdown",
   "metadata": {},
   "source": [
    "Задача №4.\n",
    "a=5,b=6. Поменять значения для переменных не создавая новую переменную\t         (двумя способами)\n"
   ]
  },
  {
   "cell_type": "code",
   "execution_count": 24,
   "metadata": {},
   "outputs": [
    {
     "name": "stdout",
     "output_type": "stream",
     "text": [
      "6\n",
      "5\n"
     ]
    }
   ],
   "source": [
    "a=5\n",
    "b=6\n",
    "a,b=b,a\n",
    "print(a)\n",
    "print(b)"
   ]
  },
  {
   "cell_type": "markdown",
   "metadata": {},
   "source": [
    "Задача №5.\n",
    "a = '_Code'\n",
    "b = 'M_'\n",
    "c = 'is West'\n",
    "Output = 'My Code is Best\n"
   ]
  },
  {
   "cell_type": "code",
   "execution_count": 30,
   "metadata": {},
   "outputs": [
    {
     "name": "stdout",
     "output_type": "stream",
     "text": [
      "My Code is Best\n"
     ]
    }
   ],
   "source": [
    "a = '_Code'\n",
    "b = 'M_' \n",
    "c = 'is West'\n",
    "print(b.strip(\"_\")+\"y \"+a.strip(\"_\")+c.replace(c,\" is Best\"))"
   ]
  },
  {
   "cell_type": "markdown",
   "metadata": {},
   "source": [
    "Задача №6.\n",
    "Вычислить ежемесячный платеж по кредиту и полную сумму выплат. Требуется вычислить, сколько нужно платить в месяц по кредиту и сколько всего отдать денег  банку за весь период.\n",
    "Месячная выплата по займу вычисляется по такой загадочной формуле:\n",
    "m = (s * p * (1 + p)**n) / (12 * ((1 + p)**n – 1))\n",
    "В этой формуле:\n",
    "•\tm - размер месячного платежа;\n",
    "•\ts - сумма займа (кредита);\n",
    "•\tp - процент банка, выраженный в долях единицы (т. е. если 20%, будет 0.2).\n",
    "•\tn - количество лет, на которые берется кредит.\n",
    "Output:\n",
    "Сколько хотите взять денег: 1000000\n",
    "Под какой процент вам их дают: 15\n",
    "Насколько лет берете: 10\n",
    "Ваш месячный платеж составит: 16604.34\n",
    "За весь период вы заплатите: 1992520.63\n",
    "Это составит 199.25% от первоначальной суммы\n",
    "\n",
    "Сколько хотите взять денег: 35000\n",
    "Под какой процент вам их дают: 10\n",
    "Насколько лет берете: 0.5\n",
    "Ваш месячный платеж составит: 6267.36\n",
    "За весь период вы заплатите: 37604.15\n",
    "Это составит 107.44% от первоначальной суммы\n"
   ]
  },
  {
   "cell_type": "code",
   "execution_count": 60,
   "metadata": {},
   "outputs": [
    {
     "name": "stdout",
     "output_type": "stream",
     "text": [
      "Сколько хотите взять денег: 35000\n",
      "Под какой процент вам их дают: 10\n",
      "Насколько лет берете: 0.5\n",
      "Ваш месячный платеж составит: 6267.36\n",
      "За весь период вы заплатите: 37604.15\n",
      "Это составит 107.44% от первоначальной суммы\n"
     ]
    }
   ],
   "source": [
    "s = int(input(\"Сколько хотите взять денег: \"))\n",
    "p = int(input(\"Под какой процент вам их дают: \"))\n",
    "n = float(input(\"Насколько лет берете: \"))\n",
    "p = p / 100\n",
    "m = (s * p * (1 + p)**n) / (12 * ((1 + p)**n - 1))\n",
    "print(\"Ваш месячный платеж составит: %.2f\" % m)\n",
    "total = m * n * 12\n",
    "print(\"За весь период вы заплатите: %.2f\" % total)\n",
    "print(\"Это составит %.2f%% от первоначальной суммы\" % ((total/s ) * 100))"
   ]
  },
  {
   "cell_type": "code",
   "execution_count": null,
   "metadata": {},
   "outputs": [],
   "source": []
  }
 ],
 "metadata": {
  "kernelspec": {
   "display_name": "Python 3 (ipykernel)",
   "language": "python",
   "name": "python3"
  },
  "language_info": {
   "codemirror_mode": {
    "name": "ipython",
    "version": 3
   },
   "file_extension": ".py",
   "mimetype": "text/x-python",
   "name": "python",
   "nbconvert_exporter": "python",
   "pygments_lexer": "ipython3",
   "version": "3.9.7"
  }
 },
 "nbformat": 4,
 "nbformat_minor": 4
}
