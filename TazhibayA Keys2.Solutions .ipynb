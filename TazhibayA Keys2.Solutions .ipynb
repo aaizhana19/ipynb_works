{
 "cells": [
  {
   "cell_type": "markdown",
   "metadata": {},
   "source": [
    "### Student: Tazhibay Aizhan\n",
    "### Group: Business Analytics and Big Data(2 course)\n",
    "### Tutor: Zhumadil Nurbol Abdirakhymuly\n",
    "### Keys 2(Conditional expressions,exceptions,loops)"
   ]
  },
  {
   "cell_type": "markdown",
   "metadata": {},
   "source": [
    "Задача №1\n",
    "Напишите программу, которая запрашивает у пользователя число.\n",
    "Если оно больше нуля, то в ответ на экран выводится число 1.\n",
    "Если введенное число не является положительным, то на экран должно выводиться -1.\n"
   ]
  },
  {
   "cell_type": "code",
   "execution_count": 15,
   "metadata": {},
   "outputs": [
    {
     "name": "stdout",
     "output_type": "stream",
     "text": [
      "-1\n",
      "-1\n"
     ]
    }
   ],
   "source": [
    "n=int(input())\n",
    "if n>0:\n",
    "    print(\"1\")\n",
    "elif n<0:\n",
    "    print(\"-1\")\n",
    "else:\n",
    "    print(\"Neither positive or negative! \")"
   ]
  },
  {
   "cell_type": "markdown",
   "metadata": {},
   "source": [
    "Задача №2\n",
    "Убрать все цифры из строки\n",
    "Input:\n",
    "a = 'he32l4lo w0or1ld'\n",
    "Output:\n",
    "‘hello world’\n"
   ]
  },
  {
   "cell_type": "code",
   "execution_count": 75,
   "metadata": {},
   "outputs": [
    {
     "name": "stdout",
     "output_type": "stream",
     "text": [
      "hello world\n"
     ]
    }
   ],
   "source": [
    "a='he32l4lo w0or1ld'\n",
    "result=s[:2:]+s[4:5]+s[6:8]+s[8:10]+s[11:13]+s[14::]\n",
    "print(result)\n",
    "\n"
   ]
  },
  {
   "cell_type": "markdown",
   "metadata": {},
   "source": [
    "Задача №3\n",
    "Определить високосный год или нет\n",
    "Год високосный если он делится на 4 без остатка. Но если он делится на 100 без остатка, это не високосный год. Однако, если он делится без остатка на 400, это високосный год.\n",
    "Input:\n",
    "2000\n",
    "Output:\n",
    "Этот год високосный\n"
   ]
  },
  {
   "cell_type": "code",
   "execution_count": 78,
   "metadata": {},
   "outputs": [
    {
     "name": "stdout",
     "output_type": "stream",
     "text": [
      "2001\n",
      "Этот год обычный\n"
     ]
    }
   ],
   "source": [
    "a = int(input())\n",
    "n=a\n",
    "if 1900<=n<=3000 and a%4==0 and a%100!=0:\n",
    "    print('Этот год високосный')\n",
    "elif  a%400==0:\n",
    "    print('Этот год високосный')\n",
    "else:\n",
    "    print('Этот год обычный')"
   ]
  },
  {
   "cell_type": "markdown",
   "metadata": {},
   "source": [
    "Задача №4\n",
    "Пользователь загадывает число от 1 до 5. Требуется его отгадать, задав как можно меньше вопросов, и ограничиться только использованием оператора ветвления(if,elif,else)\n"
   ]
  },
  {
   "cell_type": "code",
   "execution_count": 106,
   "metadata": {},
   "outputs": [
    {
     "name": "stdout",
     "output_type": "stream",
     "text": [
      "Загадайте число от 1 до 5\n",
      "Ваше число больше 3 ? да\\нетда\n",
      "ваша цифра : 4\n",
      "Мы угадали? да\\нетнет\n",
      "ваша цифра : 5\n",
      "Мы угадали? да\\нетда\n"
     ]
    }
   ],
   "source": [
    "print(\"Загадайте число от 1 до 5\")\n",
    "question=input(\"Ваше число больше 3 ? да\\нет\").lower()\n",
    "n=3\n",
    "while True:\n",
    "    if question==\"да\":\n",
    "        n+=1\n",
    "        print(\"ваша цифра : {}\".format(n))       \n",
    "    elif question==\"нет\":\n",
    "        n-=1\n",
    "        print(\"ваша цифра : {}\".format(n))\n",
    "    answer=input(\"Мы угадали? да\\нет\")\n",
    "    if answer==\"да\":\n",
    "        break\n",
    "    else:\n",
    "        continue"
   ]
  },
  {
   "cell_type": "markdown",
   "metadata": {},
   "source": [
    "Задача №5\n",
    "Введите правильный пароль от карточки. У вас есть 4-х значный код на карточке и 3 попытки, если 3 попытки не правильные\n",
    "выводится 'Карточка заблокирована', если в одной из 3 попыток код введен правильно, выводится 'Какую операцию вы хотите произвести?' (решить с циклами for/while)\n"
   ]
  },
  {
   "cell_type": "code",
   "execution_count": 102,
   "metadata": {},
   "outputs": [
    {
     "name": "stdout",
     "output_type": "stream",
     "text": [
      "47\n",
      "Карточка заблокирована\n",
      "8964\n",
      "Карточка заблокирована\n",
      "8877\n",
      "Какую операцию вы хотите произвести?\n"
     ]
    }
   ],
   "source": [
    "#for\n",
    "parol=8877\n",
    "for i in range(3):\n",
    "    a=int(input())\n",
    "    if a==parol and len(str(a))==4:\n",
    "        print(\"Какую операцию вы хотите произвести?\")\n",
    "        break\n",
    "    else:\n",
    "        print(\"Карточка заблокирована\")"
   ]
  },
  {
   "cell_type": "code",
   "execution_count": 103,
   "metadata": {},
   "outputs": [
    {
     "name": "stdout",
     "output_type": "stream",
     "text": [
      "8974\n",
      "6147\n",
      "4789\n",
      "Карточка заблокирована\n"
     ]
    }
   ],
   "source": [
    "#while\n",
    "parol=4987\n",
    "c=True\n",
    "while c:\n",
    "    a=[int(input()),int(input()),int(input())]\n",
    "    if a[0]==parol:\n",
    "        print(\"Какую операцию вы хотите произвести?\")\n",
    "        break\n",
    "    elif a[1]==parol:\n",
    "        print(\"Какую операцию вы хотите произвести?\")\n",
    "        break\n",
    "    elif a[2]==parol:\n",
    "        print(\"Какую операцию вы хотите произвести?\")\n",
    "        break\n",
    "    else:\n",
    "        print(\"Карточка заблокирована\")\n",
    "        c=False"
   ]
  },
  {
   "cell_type": "markdown",
   "metadata": {},
   "source": [
    "Задача №6\n",
    "Посчитать количество четных и нечетных чисел (двумя способами: while + арифметические операторы, for + арифметические операторы)\n",
    "Input:\n",
    "453289\n",
    "Output:\n",
    "Even: 3\n",
    "Odd: 3\n"
   ]
  },
  {
   "cell_type": "code",
   "execution_count": 36,
   "metadata": {},
   "outputs": [
    {
     "name": "stdout",
     "output_type": "stream",
     "text": [
      "453289\n",
      "Even:  3 \n",
      "Odd:  3\n"
     ]
    }
   ],
   "source": [
    "# while\n",
    "n =int(input())\n",
    "even = 0\n",
    "odd = 0\n",
    "while n > 0:\n",
    "    if n % 2 == 0:\n",
    "        even += 1\n",
    "    else:\n",
    "        odd += 1\n",
    "    n = n // 10\n",
    "print(\"Even: \",even,\"\\nOdd: \",odd)\n"
   ]
  },
  {
   "cell_type": "code",
   "execution_count": 35,
   "metadata": {},
   "outputs": [
    {
     "name": "stdout",
     "output_type": "stream",
     "text": [
      "453289\n",
      "Even:  3 \n",
      "Odd:  3\n"
     ]
    }
   ],
   "source": [
    "# for\n",
    "n = input()\n",
    "even = 0\n",
    "odd = 0\n",
    "for i in n:\n",
    "    if int(i) % 2 == 0:\n",
    "        even += 1\n",
    "    else:\n",
    "        odd += 1\n",
    "print(\"Even: \",even,\"\\nOdd: \",odd)"
   ]
  },
  {
   "cell_type": "markdown",
   "metadata": {},
   "source": [
    "Задача №7\n",
    "Посчитать сколько денег у меня будет в депозите за N-лет, и годовой K-ставкой. (while, for)\n",
    "Input = N-количество лет, K-процентная ставка, M-сумма открытия\n",
    "Output = сумма накоплений\n"
   ]
  },
  {
   "cell_type": "code",
   "execution_count": 87,
   "metadata": {},
   "outputs": [
    {
     "name": "stdout",
     "output_type": "stream",
     "text": [
      "5\n",
      "12\n",
      "1000\n",
      "Сумма накоплений:  1762.34 $\n",
      "Сумма накоплений:  1762.34 $\n"
     ]
    }
   ],
   "source": [
    "#for \n",
    "N=int(input())\n",
    "K=float(input())\n",
    "M=int(input())\n",
    "r= K/100  \n",
    "let=N\n",
    "for_s=M\n",
    "while_s=M\n",
    "\n",
    "#for\n",
    "for i in range(let):\n",
    "    for_s+=for_s*r\n",
    "    \n",
    "#while\n",
    "while let:\n",
    "    while_s+=while_s*r\n",
    "    let-=1\n",
    "    \n",
    "print(\"Сумма накоплений: \",round(for_s,2),\"$\")\n",
    "print(\"Сумма накоплений: \",round(while_s,2),\"$\")\n",
    "\n"
   ]
  },
  {
   "cell_type": "markdown",
   "metadata": {},
   "source": [
    "Задача №8\n",
    "Написать программу, которая выполняет над двумя вещественными числами одну из четырех арифметических операций (сложение, вычитание, умножение или деление), иными словами простейший калькулятор. Программа должна завершаться только по желанию пользователя(при введении(s)). (while)\n"
   ]
  },
  {
   "cell_type": "code",
   "execution_count": 83,
   "metadata": {},
   "outputs": [
    {
     "name": "stdout",
     "output_type": "stream",
     "text": [
      "Введите первую цифру: 2.1\n",
      "Введите вторую цифру: 2.1\n",
      "Выберите операцию? +, - , *, //\n",
      "Результат деления:  1.0\n",
      "для выхода нажмите : s \n",
      "для продолжения : c s\n"
     ]
    }
   ],
   "source": [
    "while True:\n",
    "    a=float(input(\"Введите первую цифру: \"))\n",
    "    b=float(input(\"Введите вторую цифру: \"))\n",
    "    c=input(\"Выберите операцию? +, - , *, /\")\n",
    "    if c==\"+\":\n",
    "        print(\"Результат сложения: \",a+b)\n",
    "    elif c==\"-\":\n",
    "        print(\"Резултат вычитания: \",a-b)\n",
    "    elif c==\"*\":\n",
    "        print(\"Результат умножения: \",a*b)\n",
    "    elif c==\"/\":\n",
    "        print(\"Результат деления: \",a/b)\n",
    "    else:\n",
    "        print(\"Ошибка ввода!\")\n",
    "    finish=input(\"для выхода нажмите : s \\nдля продолжения : c \")\n",
    "    if finish==\"s\":\n",
    "        break\n",
    "    else:\n",
    "        continue\n",
    "\n"
   ]
  },
  {
   "cell_type": "code",
   "execution_count": null,
   "metadata": {},
   "outputs": [],
   "source": []
  }
 ],
 "metadata": {
  "kernelspec": {
   "display_name": "Python 3",
   "language": "python",
   "name": "python3"
  },
  "language_info": {
   "codemirror_mode": {
    "name": "ipython",
    "version": 3
   },
   "file_extension": ".py",
   "mimetype": "text/x-python",
   "name": "python",
   "nbconvert_exporter": "python",
   "pygments_lexer": "ipython3",
   "version": "3.8.3"
  }
 },
 "nbformat": 4,
 "nbformat_minor": 4
}
