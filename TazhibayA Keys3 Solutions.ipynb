{
 "cells": [
  {
   "cell_type": "markdown",
   "metadata": {},
   "source": [
    "### Student: Tazhibay Aizhan\n",
    "### Group: Business Analytics and Big Data(2 course)\n",
    "### Tutor: Zhumadil Nurbol Abdirakhymuly\n",
    "### Keys 3(Data types.Methods.Operators: break,continue)"
   ]
  },
  {
   "cell_type": "markdown",
   "metadata": {},
   "source": [
    "Задача №1\n",
    "a = [5,843,123,65,54,14,46,34]\n",
    "1. Выведите все значения которые больше 50\n",
    "2. Выведите все четные значения\n"
   ]
  },
  {
   "cell_type": "code",
   "execution_count": 4,
   "metadata": {},
   "outputs": [
    {
     "name": "stdout",
     "output_type": "stream",
     "text": [
      "843\n",
      "123\n",
      "65\n",
      "54\n"
     ]
    }
   ],
   "source": [
    "#1\n",
    "a = [5,843,123,65,54,14,46,34]\n",
    "for i in a:\n",
    "    if i>50:\n",
    "        print(i)"
   ]
  },
  {
   "cell_type": "code",
   "execution_count": 5,
   "metadata": {},
   "outputs": [
    {
     "name": "stdout",
     "output_type": "stream",
     "text": [
      "54\n",
      "14\n",
      "46\n",
      "34\n"
     ]
    }
   ],
   "source": [
    "#2\n",
    "a = [5,843,123,65,54,14,46,34]\n",
    "for i in a:\n",
    "    if i%2==0:\n",
    "        print(i)"
   ]
  },
  {
   "cell_type": "markdown",
   "metadata": {},
   "source": [
    "Задача №2\n",
    "Дан список целых чисел. Заменить отрицательные на -1, положительные - на число 1, ноль оставить без изменений\n",
    "a) сохраните в новый список\n",
    "б) перезапишите данные\n",
    "Входные данные:\n",
    "[10, -15, 3, 8, 0, 9, -6, 13, -1, 5]\n",
    "Выходные данные:\n",
    "[1, -1, 1, 1, 0, 1, -1, 1, -1, 1]\n"
   ]
  },
  {
   "cell_type": "code",
   "execution_count": 29,
   "metadata": {},
   "outputs": [
    {
     "name": "stdout",
     "output_type": "stream",
     "text": [
      "10 -15 3 8 0 9 -6 13 -1 5\n",
      "[1, -1, 1, 1, 0, 1, -1, 1, -1, 1]\n"
     ]
    }
   ],
   "source": [
    "a=[int(i) for i in input().split()]\n",
    "b=[]\n",
    "for i in a:\n",
    "    if i>0:\n",
    "        i=1\n",
    "        b.append(i)\n",
    "    elif i==0:\n",
    "        i=0\n",
    "        b.append(i)\n",
    "    else:\n",
    "        i=-1\n",
    "        b.append(i)\n",
    "print(b)"
   ]
  },
  {
   "cell_type": "markdown",
   "metadata": {},
   "source": [
    "Задача №3\n",
    "Дан список чисел. Если в нем есть два соседних элемента одного знака, выведите эти числа. \n",
    "Если соседних элементов одного знака нет - не выводите ничего.\n",
    "Если таких пар соседей несколько - выведите первую пару. \n",
    "Входные данные \n",
    "Дан массив чисел\n",
    "Выходные данные \n",
    "Выведите ответ на задачу.\n",
    "Примеры\n",
    "Входные данные\n",
    "[1, -1, 1, -2, -2,-3,1,4,5]\n",
    "Выходные данные\n",
    "-2 -2\n"
   ]
  },
  {
   "cell_type": "code",
   "execution_count": 30,
   "metadata": {},
   "outputs": [
    {
     "name": "stdout",
     "output_type": "stream",
     "text": [
      "1 -1 1 -2 -2 -3 1 4 5\n",
      "-2 -2 "
     ]
    }
   ],
   "source": [
    "a=[int(i) for i in input().split()]\n",
    "for i in range(len(a)-1):\n",
    "    if a[i]==a[i+1]:\n",
    "        print(a[i],a[i+1],end=' ')\n",
    "    \n",
    "    \n",
    "    \n",
    "    "
   ]
  },
  {
   "cell_type": "markdown",
   "metadata": {},
   "source": [
    "Задача №5\n",
    "Петя перешёл в другую школу. На уроке физкультуры ему понадобилось определить своё место в строю. Помогите ему это сделать. \n",
    "Входные данные \n",
    "Программа получает на вход невозрастающую последовательность натуральных чисел, означающих рост каждого человека в строю. После этого вводится число X – рост Пети. Все числа во входных данных натуральные и не превышают 200. \n",
    "Выходные данные \n",
    "Выведите номер, под которым Петя должен встать в строй. Если в строю есть люди с одинаковым ростом, таким же, как у Пети, то он должен встать после них. \n",
    "Входные данные\n",
    "165 163 160 160 157 157 155 154 \n",
    "162\n",
    "Выходные данные\n",
    "3\n",
    "Входные данные\n",
    "165 163 160 160 157 157 155 154 \n",
    "160\n",
    "Выходные данные\n",
    "5\n"
   ]
  },
  {
   "cell_type": "code",
   "execution_count": 6,
   "metadata": {},
   "outputs": [
    {
     "name": "stdout",
     "output_type": "stream",
     "text": [
      "165 163 160 160 157 157 155 154\n",
      "162\n",
      "3\n"
     ]
    }
   ],
   "source": [
    "a=[int(i) for i in input().split()]\n",
    "X=int(input())\n",
    "for i in range(len(a)-1):\n",
    "    if a[i]>=X and X>a[i+1]:\n",
    "        result=a.index(a[i+1])\n",
    "        print(result+1)"
   ]
  },
  {
   "cell_type": "markdown",
   "metadata": {},
   "source": [
    "Задача №6\n",
    "Дан список, упорядоченный по неубыванию элементов в нем. Определите, сколько в нем различных элементов. \n",
    "Входные данные \n",
    "Дан массив чисел\n",
    "Выходные данные \n",
    "Выведите ответ на задачу.\n",
    "Входные данные\n",
    "1 2 2 3 3 3\n",
    "Выходные данные\n",
    "3\n",
    "Подсказка: чтобы добавить элемент в лист можно использовать функцию append:\n",
    "a = [1,2,3]\n",
    "a.append(4) # теперь a == [1,2,3,4]\n"
   ]
  },
  {
   "cell_type": "code",
   "execution_count": 22,
   "metadata": {},
   "outputs": [
    {
     "name": "stdout",
     "output_type": "stream",
     "text": [
      "1 2 2 3 3 3\n",
      "3\n"
     ]
    }
   ],
   "source": [
    "a=[int(i) for i in input().split()]\n",
    "b=[]\n",
    "for i in a:\n",
    "    if i not in b:\n",
    "        b.append(i)  \n",
    "print(len(b))"
   ]
  },
  {
   "cell_type": "markdown",
   "metadata": {},
   "source": [
    "Задача №7\n",
    "Дан список чисел. Выведите значение наибольшего элемента в списке, а затем индекс этого элемента в списке.\n",
    "Если наибольших элементов несколько, выведите индекс первого из них.\n",
    "Входные данные\n",
    "[1,54,342,676,35,2]\n",
    "Выходные данные\n",
    "676 3"
   ]
  },
  {
   "cell_type": "code",
   "execution_count": 28,
   "metadata": {},
   "outputs": [
    {
     "name": "stdout",
     "output_type": "stream",
     "text": [
      "1 54 342 676 35 2\n",
      "676 3\n"
     ]
    }
   ],
   "source": [
    "a=[int(i) for i in input().split()]\n",
    "b=max(a)\n",
    "result=a.index(b)\n",
    "print(b,result)"
   ]
  },
  {
   "cell_type": "code",
   "execution_count": null,
   "metadata": {},
   "outputs": [],
   "source": []
  }
 ],
 "metadata": {
  "kernelspec": {
   "display_name": "Python 3",
   "language": "python",
   "name": "python3"
  },
  "language_info": {
   "codemirror_mode": {
    "name": "ipython",
    "version": 3
   },
   "file_extension": ".py",
   "mimetype": "text/x-python",
   "name": "python",
   "nbconvert_exporter": "python",
   "pygments_lexer": "ipython3",
   "version": "3.8.3"
  }
 },
 "nbformat": 4,
 "nbformat_minor": 4
}
