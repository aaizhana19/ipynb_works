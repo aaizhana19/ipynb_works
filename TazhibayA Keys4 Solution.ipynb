{
 "cells": [
  {
   "cell_type": "markdown",
   "metadata": {},
   "source": [
    "### Student: Tazhibay Aizhan\n",
    "### Group: Business Analytics and Big Data(2 course)\n",
    "### Tutor: Zhumadil Nurbol Abdirakhymuly\n",
    "### Keys 4 Task 4"
   ]
  },
  {
   "cell_type": "markdown",
   "metadata": {},
   "source": [
    "Задача №4\n",
    "Дан список. Определить в нем наиболее встречаемое значение. Программа ниже ищет только одно значение. (list,set,for,if)\n",
    "Если в списке два значения встречаются с одинаковой частотой, то будет определено только одно из них.\n",
    "[0, 0, 2, 3, 0, 3, 3, 4, 2, 0, 2, 0, 1, 4, 0]\n",
    "0\n"
   ]
  },
  {
   "cell_type": "code",
   "execution_count": 3,
   "metadata": {},
   "outputs": [
    {
     "name": "stdout",
     "output_type": "stream",
     "text": [
      "0 0 2 3 0 3 3 4 2 0 2 0 1 4 0\n",
      "0\n"
     ]
    }
   ],
   "source": [
    "a = [int(i) for i in input().split()]\n",
    "b = set(a)\n",
    "result = 0\n",
    "n = 0\n",
    "for item in b:\n",
    "    k = a.count(item)\n",
    "    if k > n:\n",
    "        n = k \n",
    "        result = item \n",
    "print(result)"
   ]
  },
  {
   "cell_type": "code",
   "execution_count": null,
   "metadata": {},
   "outputs": [],
   "source": []
  }
 ],
 "metadata": {
  "kernelspec": {
   "display_name": "Python 3 (ipykernel)",
   "language": "python",
   "name": "python3"
  },
  "language_info": {
   "codemirror_mode": {
    "name": "ipython",
    "version": 3
   },
   "file_extension": ".py",
   "mimetype": "text/x-python",
   "name": "python",
   "nbconvert_exporter": "python",
   "pygments_lexer": "ipython3",
   "version": "3.9.7"
  }
 },
 "nbformat": 4,
 "nbformat_minor": 4
}
