{
 "cells": [
  {
   "cell_type": "markdown",
   "metadata": {},
   "source": [
    "### Student: Tazhibay Aizhan\n",
    "### Group: Business Analytics and Big Data(2 course)\n",
    "### Tutor: Zhumadil Nurbol Abdirakhymuly\n",
    "### Keys 5 (Dictionaries and operations of them)"
   ]
  },
  {
   "cell_type": "markdown",
   "metadata": {},
   "source": [
    "##### Задача №1\n",
    "###### 1. a = {1: 'one', 2: 'two', 3: 'two'}\n",
    "Добавьте ключ 4 и значение 'four' двумя способами\n",
    "Измените значение для ключа 3 на 'three'\n",
    "Выведите все ключи (2 способами)\n",
    "Выведите все значения (2 способами)\n",
    "###### 2. b = {5: 'five', 6: 'six'}\n",
    "Объедините два словаря\n"
   ]
  },
  {
   "cell_type": "code",
   "execution_count": 6,
   "metadata": {},
   "outputs": [
    {
     "name": "stdout",
     "output_type": "stream",
     "text": [
      "{1: 'one', 2: 'two', 3: 'two', 4: 'four'}\n"
     ]
    }
   ],
   "source": [
    "#1.1 sposob\n",
    "a = {1: 'one', 2: 'two', 3: 'two'}\n",
    "a[4]=\"four\"\n",
    "print(a)"
   ]
  },
  {
   "cell_type": "code",
   "execution_count": 8,
   "metadata": {},
   "outputs": [
    {
     "name": "stdout",
     "output_type": "stream",
     "text": [
      "{1: 'one', 2: 'two', 3: 'two', 4: 'four'}\n"
     ]
    }
   ],
   "source": [
    "#1.2 sposob\n",
    "a = {1: 'one', 2: 'two', 3: 'two'}\n",
    "a.setdefault(4,\"four\")\n",
    "print(a)"
   ]
  },
  {
   "cell_type": "code",
   "execution_count": 9,
   "metadata": {},
   "outputs": [
    {
     "name": "stdout",
     "output_type": "stream",
     "text": [
      "{1: 'one', 2: 'two', 3: 'two', 4: 'four', 5: 'five', 6: 'six'}\n"
     ]
    }
   ],
   "source": [
    "#2\n",
    "b = {5: 'five', 6: 'six'}\n",
    "a.update(b)\n",
    "print(a)\n"
   ]
  },
  {
   "cell_type": "markdown",
   "metadata": {},
   "source": [
    "##### Задача №2\n",
    "school = {'1a':20,'1б':22,'2а':18,'2б':28,'3а':15,'4а':30,'5а':30,'6б':13,'6а':16}\n",
    "###### 1. сколько учащихся во всей школе? В каком классе максимальное число учащихся? Кол-во максимального класса учащихся?\n",
    "Вывести количество учащихся в начальной школе(при условии что классы в начальной школе начинаются с 1 по 4)?\n"
   ]
  },
  {
   "cell_type": "code",
   "execution_count": 76,
   "metadata": {},
   "outputs": [
    {
     "name": "stdout",
     "output_type": "stream",
     "text": [
      "Всего в школе 192 учеников\n"
     ]
    }
   ],
   "source": [
    "school = {'1a':20,'1б':22,'2а':18,'2б':28,'3а':15,'4а':30,'5а':30,'6б':13,'6а':16}\n",
    "n=sum(school.values())\n",
    "print(\"Всего в школе {0} учеников\".format(n))\n",
    "        "
   ]
  },
  {
   "cell_type": "code",
   "execution_count": 77,
   "metadata": {},
   "outputs": [
    {
     "name": "stdout",
     "output_type": "stream",
     "text": [
      "В классе 4а,5а максимальное количество учеников\n"
     ]
    }
   ],
   "source": [
    "school = {'1a':20,'1б':22,'2а':18,'2б':28,'3а':15,'4а':30,'5а':30,'6б':13,'6а':16}\n",
    "n=max(school, key=school.get)\n",
    "school.pop(n)\n",
    "d=max(school, key=school.get)\n",
    "print(\"В классе {0},{1} максимальное количество учеников\".format(n,d))"
   ]
  },
  {
   "cell_type": "code",
   "execution_count": 75,
   "metadata": {},
   "outputs": [
    {
     "name": "stdout",
     "output_type": "stream",
     "text": [
      "Кол-во максимального класса учащихся: 30\n"
     ]
    }
   ],
   "source": [
    "school = {'1a':20,'1б':22,'2а':18,'2б':28,'3а':15,'4а':30,'5а':30,'6б':13,'6а':16}\n",
    "n = 0\n",
    "for i,j in school.items():\n",
    "    if j > n:\n",
    "        n=j\n",
    "print(\"Кол-во максимального класса учащихся: {0}\".format(n))\n"
   ]
  },
  {
   "cell_type": "code",
   "execution_count": 150,
   "metadata": {},
   "outputs": [
    {
     "name": "stdout",
     "output_type": "stream",
     "text": [
      "Количество учащихся в начальной школе\n",
      "(при условии что классы в начальной школе начинаются с 1 по 4): 133\n"
     ]
    }
   ],
   "source": [
    "school = {'1a':20,'1б':22,'2а':18,'2б':28,'3а':15,'4а':30,'5а':30,'6б':13,'6а':16}\n",
    "nach_k=[\"1a\",\"1б\",\"2а\",\"2б\",\"3а\",\"4а\",\"4б\"]\n",
    "d=[]\n",
    "for key in school.keys():\n",
    "    if key in nach_k:\n",
    "        d.append(school[key])\n",
    "s=0           \n",
    "for i in d:\n",
    "    s+=int(i)\n",
    "print(\"Количество учащихся в начальной школе\\n(при условии что классы в начальной школе начинаются с 1 по 4): {0}\".format(s))            "
   ]
  },
  {
   "cell_type": "code",
   "execution_count": null,
   "metadata": {},
   "outputs": [],
   "source": []
  }
 ],
 "metadata": {
  "kernelspec": {
   "display_name": "Python 3",
   "language": "python",
   "name": "python3"
  },
  "language_info": {
   "codemirror_mode": {
    "name": "ipython",
    "version": 3
   },
   "file_extension": ".py",
   "mimetype": "text/x-python",
   "name": "python",
   "nbconvert_exporter": "python",
   "pygments_lexer": "ipython3",
   "version": "3.8.3"
  }
 },
 "nbformat": 4,
 "nbformat_minor": 4
}
