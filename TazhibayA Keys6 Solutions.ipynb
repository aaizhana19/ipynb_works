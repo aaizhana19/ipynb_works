{
 "cells": [
  {
   "cell_type": "markdown",
   "metadata": {},
   "source": [
    "#### Student: Tazhibay Aizhan\n",
    "#### Group: Business Analytics and Big Data(2 course,English department,after college)\n",
    "#### Tutor: Zhumadil Nurbol Abdirakhymuly\n",
    "<h2 style=\"text-align: center;\"><b> Keys 6(Functions,types of function,Reduce,Map,Lambda,Zip,List comprehensions) </b></h2>"
   ]
  },
  {
   "cell_type": "markdown",
   "metadata": {},
   "source": [
    "<h3> Задача №1</h3>\n",
    "a = [‘Nurbol’, 2, ‘Almaty’, 4, ‘Nur-Sultan’, 6, 7]\n",
    "\n",
    "1. Вывести все str в отдельном списке  \n",
    "2. Вывести все int в отдельном списке\n"
   ]
  },
  {
   "cell_type": "code",
   "execution_count": 6,
   "metadata": {},
   "outputs": [],
   "source": [
    "a = ['Nurbol', 2, 'Almaty', 4, 'Nur-Sultan', 6, 7]"
   ]
  },
  {
   "cell_type": "code",
   "execution_count": 126,
   "metadata": {},
   "outputs": [],
   "source": [
    "#1 variant def\n",
    "def strings(x):\n",
    "    for i in x:\n",
    "        if type(i) is not int:\n",
    "            b.append(i)\n",
    "    return(b) \n",
    "\n",
    "def integers(x):\n",
    "    for i in x:\n",
    "        if type(i) is not str:\n",
    "            c.append(i)\n",
    "    return(c)"
   ]
  },
  {
   "cell_type": "code",
   "execution_count": 128,
   "metadata": {},
   "outputs": [
    {
     "name": "stdout",
     "output_type": "stream",
     "text": [
      "strings: ['Nurbol', 'Almaty', 'Nur-Sultan']\n",
      "integers [2, 4, 6, 7]\n"
     ]
    }
   ],
   "source": [
    "b=[]\n",
    "c=[]\n",
    "first=strings(a)\n",
    "second=integers(a)\n",
    "print('strings:',first)\n",
    "print('integers',second)"
   ]
  },
  {
   "cell_type": "code",
   "execution_count": 67,
   "metadata": {},
   "outputs": [
    {
     "name": "stdout",
     "output_type": "stream",
     "text": [
      "integers:  [2, 4, 6, 7]\n",
      "strings:  ['Nurbol', 'Almaty', 'Nur-Sultan']\n"
     ]
    }
   ],
   "source": [
    "#2 variant  map+filter\n",
    "def integers(x):\n",
    "    if type(x) is not str:\n",
    "        return x\n",
    "    \n",
    "def strings(x):\n",
    "    if type(x) is not int:\n",
    "        return x\n",
    "    \n",
    "a = ['Nurbol', 2, 'Almaty', 4, 'Nur-Sultan', 6, 7]\n",
    "\n",
    "result=list(map(integers,a))\n",
    "c=list(filter(None, result))\n",
    "\n",
    "result2=list(map(strings,a))\n",
    "d=list(filter(None, result2))\n",
    "\n",
    "print('integers: ',c)\n",
    "print('strings: ',d)"
   ]
  },
  {
   "cell_type": "code",
   "execution_count": 68,
   "metadata": {},
   "outputs": [
    {
     "name": "stdout",
     "output_type": "stream",
     "text": [
      "strings:  ['Nurbol', 'Almaty', 'Nur-Sultan']\n",
      "integers:  [2, 4, 6, 7]\n"
     ]
    }
   ],
   "source": [
    "#3 variant lambda+filter\n",
    "a = ['Nurbol', 2, 'Almaty', 4, 'Nur-Sultan', 6, 7]\n",
    "\n",
    "print('strings: ',list(filter(lambda x: type(x) is str,a)))\n",
    "print('integers: ',list(filter(lambda x: type(x) is int,a)))"
   ]
  },
  {
   "cell_type": "code",
   "execution_count": 111,
   "metadata": {},
   "outputs": [
    {
     "name": "stdout",
     "output_type": "stream",
     "text": [
      "strings: ['Nurbol', 'Almaty', 'Nur-Sultan']\n",
      "integers: [2, 4, 6, 7]\n"
     ]
    }
   ],
   "source": [
    "#4 map+lambda+filter\n",
    "a = ['Nurbol', 2, 'Almaty', 4, 'Nur-Sultan', 6, 7]\n",
    "\n",
    "result=list(map(lambda x: x if type(x) is str else None,a))\n",
    "result2=list(map(lambda x: x if type(x) is int else None,a))\n",
    "\n",
    "stringsss=list(filter(None,result))\n",
    "integerss=list(filter(None,result2))\n",
    "\n",
    "print(\"strings:\",stringsss)\n",
    "print(\"integers:\",integerss)\n"
   ]
  },
  {
   "cell_type": "code",
   "execution_count": 119,
   "metadata": {},
   "outputs": [
    {
     "name": "stdout",
     "output_type": "stream",
     "text": [
      "strings:  ['Nurbol', 'Almaty', 'Nur-Sultan']\n",
      "integers:  [2, 4, 6, 7]\n"
     ]
    }
   ],
   "source": [
    "#5  def+filter+map\n",
    "a = ['Nurbol', 2, 'Almaty', 4, 'Nur-Sultan', 6, 7]\n",
    "\n",
    "def strings(x):\n",
    "    if type(x) is str:\n",
    "        return x\n",
    "    else:\n",
    "        return None\n",
    "    \n",
    "def integers(x):\n",
    "    if type(x) is int:\n",
    "        return x\n",
    "    else:\n",
    "        return None\n",
    "    \n",
    "sd=list(filter(None,map(strings,a)))\n",
    "ir=list(filter(None,map(integers,a)))\n",
    "\n",
    "print(\"strings: \",sd)\n",
    "print(\"integers: \",ir)"
   ]
  },
  {
   "cell_type": "markdown",
   "metadata": {},
   "source": [
    "<h3>Задача №2</h3>\n",
    "school = {'1a':20,'1б':22,'2а':18,'2б':28,'3а':15,'4а':30,'5а':30,'6б':13,'6а':16}\n",
    "\n",
    "1. сколько учащихся во всей школе? \n",
    "2. В каком классе максимальное число учащихся? \n",
    "3. Кол-во максимального класса учащихся?\n",
    "4. Вывести количество учащихся в начальной школе(при условии что классы в начальной школе начинаются с 1 по 4)?\n"
   ]
  },
  {
   "cell_type": "code",
   "execution_count": 125,
   "metadata": {},
   "outputs": [
    {
     "name": "stdout",
     "output_type": "stream",
     "text": [
      "Всего учащихся:  192\n"
     ]
    }
   ],
   "source": [
    "#1 task\n",
    "from functools import  reduce\n",
    "\n",
    "school = {'1a':20,'1б':22,'2а':18,'2б':28,'3а':15,'4а':30,'5а':30,'6б':13,'6а':16}\n",
    "listt=[]\n",
    "\n",
    "def get_values(x):\n",
    "    for values in x.values():\n",
    "        listt.append(values)\n",
    "    return listt\n",
    "\n",
    "get_values(school)\n",
    "print(\"Всего учащихся: \",reduce(lambda x,y: x+y ,listt))\n",
    "    \n"
   ]
  },
  {
   "cell_type": "code",
   "execution_count": 144,
   "metadata": {},
   "outputs": [
    {
     "name": "stdout",
     "output_type": "stream",
     "text": [
      "Классы в котором максимальное количество учащихся: 5а,4а \n"
     ]
    }
   ],
   "source": [
    "#2 task\n",
    "school = {'1a':20,'1б':22,'2а':18,'2б':28,'3а':15,'4а':30,'5а':30,'6б':13,'6а':16}\n",
    "\n",
    "result = [(value, key) for key, value in school.items()] \n",
    "result=max(result)[1]\n",
    "\n",
    "school.pop(result)\n",
    "\n",
    "result2=[(value, key) for key, value in school.items()] \n",
    "result2=max(result2)[1]\n",
    "\n",
    "print('Классы в котором максимальное количество учащихся: {0},{1} '.format(result,result2))\n",
    "\n",
    "\n"
   ]
  },
  {
   "cell_type": "code",
   "execution_count": 145,
   "metadata": {},
   "outputs": [
    {
     "name": "stdout",
     "output_type": "stream",
     "text": [
      "Кол-во максимального класса учащихся:  30\n"
     ]
    }
   ],
   "source": [
    "#3 task\n",
    "school = {'1a':20,'1б':22,'2а':18,'2б':28,'3а':15,'4а':30,'5а':30,'6б':13,'6а':16}\n",
    "listt=[]\n",
    "\n",
    "def get_values(x):\n",
    "    for values in x.values():\n",
    "        listt.append(values)\n",
    "    return listt\n",
    "\n",
    "get_values(school)\n",
    "\n",
    "print(\"Кол-во максимального класса учащихся: \",reduce(lambda x,y: x if (x>y) else y ,listt))"
   ]
  },
  {
   "cell_type": "code",
   "execution_count": 157,
   "metadata": {},
   "outputs": [
    {
     "name": "stdout",
     "output_type": "stream",
     "text": [
      "Количество учащихся в начальной школе:  133\n"
     ]
    }
   ],
   "source": [
    "#4 task\n",
    "school = {'1a':20,'1б':22,'2а':18,'2б':28,'3а':15,'4а':30,'5а':30,'6б':13,'6а':16}\n",
    "listt=[]\n",
    "\n",
    "def get_classes(x):\n",
    "    b=[x.pop(key) for key in ['5а', '6б','6а']]\n",
    "    return x\n",
    "\n",
    "def max_pupils(y):\n",
    "    return sum(y.values())\n",
    "    \n",
    "\n",
    "sorted_list=get_classes(school)\n",
    "result=max_pupils(sorted_list)\n",
    "\n",
    "print('Количество учащихся в начальной школе: ',result)"
   ]
  },
  {
   "cell_type": "code",
   "execution_count": null,
   "metadata": {},
   "outputs": [],
   "source": []
  }
 ],
 "metadata": {
  "kernelspec": {
   "display_name": "Python 3",
   "language": "python",
   "name": "python3"
  },
  "language_info": {
   "codemirror_mode": {
    "name": "ipython",
    "version": 3
   },
   "file_extension": ".py",
   "mimetype": "text/x-python",
   "name": "python",
   "nbconvert_exporter": "python",
   "pygments_lexer": "ipython3",
   "version": "3.8.3"
  }
 },
 "nbformat": 4,
 "nbformat_minor": 4
}
