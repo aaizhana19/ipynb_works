{
 "cells": [
  {
   "cell_type": "markdown",
   "metadata": {},
   "source": [
    "#### Student: Tazhibay Aizhan\n",
    "#### Group: Business Analytics and Big Data(2 course,English department,after college)\n",
    "#### Tutor: Zhumadil Nurbol Abdirakhymuly\n",
    "<h2 style=\"text-align: center;\"><b> Keys 7(Numpy,arrays,matrices,operations with numpy library) </b></h2>"
   ]
  },
  {
   "cell_type": "markdown",
   "metadata": {},
   "source": [
    "<h4> Задача №1</h4>\n",
    "Создать вектор заполненный нулями, но пятый элемент равен 1, кол-во значений 10\n"
   ]
  },
  {
   "cell_type": "code",
   "execution_count": 3,
   "metadata": {},
   "outputs": [
    {
     "name": "stdout",
     "output_type": "stream",
     "text": [
      "[0 0 0 0 1 0 0 0 0 0]\n"
     ]
    }
   ],
   "source": [
    "import numpy as np\n",
    "\n",
    "a=np.zeros(9,int)\n",
    "b=np.insert(a,[4],1)\n",
    "print(b)"
   ]
  },
  {
   "cell_type": "markdown",
   "metadata": {},
   "source": [
    "<h4> Задача №2</h4> \n",
    "Создать вектор со значениями от 10 до 49\n"
   ]
  },
  {
   "cell_type": "code",
   "execution_count": 109,
   "metadata": {},
   "outputs": [
    {
     "name": "stdout",
     "output_type": "stream",
     "text": [
      "[10 11 12 13 14 15 16 17 18 19 20 21 22 23 24 25 26 27 28 29 30 31 32 33\n",
      " 34 35 36 37 38 39 40 41 42 43 44 45 46 47 48 49]\n"
     ]
    }
   ],
   "source": [
    "a=np.arange(10,49+1)\n",
    "print(a)"
   ]
  },
  {
   "cell_type": "markdown",
   "metadata": {},
   "source": [
    "<h4>Задача №3</h4>\n",
    "Создать матрицу (двумерный массив) 3x3 со значениями от 0 до 8\n"
   ]
  },
  {
   "cell_type": "code",
   "execution_count": 48,
   "metadata": {},
   "outputs": [
    {
     "name": "stdout",
     "output_type": "stream",
     "text": [
      "[[0 1 2]\n",
      " [3 4 5]\n",
      " [6 7 8]]\n"
     ]
    }
   ],
   "source": [
    "a = np.arange(9).reshape(3,3)\n",
    "print(a)"
   ]
  },
  {
   "cell_type": "markdown",
   "metadata": {},
   "source": [
    "<h4>Задача №4</h4>\n",
    "Создать матрицу 8x8 и заполнить ее в шахматном порядке"
   ]
  },
  {
   "cell_type": "code",
   "execution_count": 39,
   "metadata": {},
   "outputs": [
    {
     "name": "stdout",
     "output_type": "stream",
     "text": [
      "[[0 1 0 1 0 1 0 1]\n",
      " [1 0 1 0 1 0 1 0]\n",
      " [0 1 0 1 0 1 0 1]\n",
      " [1 0 1 0 1 0 1 0]\n",
      " [0 1 0 1 0 1 0 1]\n",
      " [1 0 1 0 1 0 1 0]\n",
      " [0 1 0 1 0 1 0 1]\n",
      " [1 0 1 0 1 0 1 0]]\n"
     ]
    }
   ],
   "source": [
    "a = np.zeros((8,8),int)\n",
    "a[1::2,::2] = 1\n",
    "a[::2,1::2] = 1\n",
    "print(a)"
   ]
  },
  {
   "cell_type": "markdown",
   "metadata": {},
   "source": [
    "<h4>Задача №5</h4>\n",
    "Создать матрицу 5x5 со значениями в строках от 0 до 4"
   ]
  },
  {
   "cell_type": "code",
   "execution_count": 74,
   "metadata": {},
   "outputs": [
    {
     "name": "stdout",
     "output_type": "stream",
     "text": [
      "[[0 1 2 3 4]\n",
      " [0 1 2 3 4]\n",
      " [0 1 2 3 4]\n",
      " [0 1 2 3 4]\n",
      " [0 1 2 3 4]]\n"
     ]
    }
   ],
   "source": [
    "a = np.zeros((5,5),int)\n",
    "a += np.arange(5)\n",
    "print(a)"
   ]
  },
  {
   "cell_type": "markdown",
   "metadata": {},
   "source": [
    "<h4>Задача №6</h4>\n",
    "Создать матрицу с 0 внутри и 1 на границах\n"
   ]
  },
  {
   "cell_type": "code",
   "execution_count": 82,
   "metadata": {},
   "outputs": [
    {
     "name": "stdout",
     "output_type": "stream",
     "text": [
      "[[1 1 1]\n",
      " [1 0 1]\n",
      " [1 1 1]]\n"
     ]
    }
   ],
   "source": [
    "a = np.ones((3,3),int)\n",
    "a[1:-1,1:-1] = 0\n",
    "print(a)"
   ]
  },
  {
   "cell_type": "markdown",
   "metadata": {},
   "source": [
    "<h4>Задача №7</h4>\n",
    "Дан массив, поменять знак у элементов, значения которых между 3 и 8 (2 видами решений)\n"
   ]
  },
  {
   "cell_type": "code",
   "execution_count": 119,
   "metadata": {},
   "outputs": [
    {
     "name": "stdout",
     "output_type": "stream",
     "text": [
      "[ 0  1  2  3 -4 -5 -6 -7  8  9 10]\n"
     ]
    }
   ],
   "source": [
    "#1\n",
    "a = np.arange(10+1)\n",
    "a[np.where((3<a)&(a<8))]*= -1\n",
    "print(a)"
   ]
  },
  {
   "cell_type": "code",
   "execution_count": 8,
   "metadata": {},
   "outputs": [
    {
     "name": "stdout",
     "output_type": "stream",
     "text": [
      "[   0    1    2 ... 7997 7998 7999]\n"
     ]
    }
   ],
   "source": [
    "a = np.arange(0,8000)\n",
    "a[np.where((a>=40000))]== 4000\n",
    "print(a)"
   ]
  },
  {
   "cell_type": "code",
   "execution_count": 96,
   "metadata": {},
   "outputs": [
    {
     "name": "stdout",
     "output_type": "stream",
     "text": [
      "[ 0  1  2  3 -4 -5 -6 -7  8  9 10]\n"
     ]
    }
   ],
   "source": [
    "#2\n",
    "a=np.arange(10+1)\n",
    "a[np.logical_and(3<a,a<8)]*=-1\n",
    "print(a)"
   ]
  },
  {
   "cell_type": "markdown",
   "metadata": {},
   "source": [
    "<h4>Задача №8</h4>\n",
    "Определить, есть ли в 2D массиве нулевые столбцы\n"
   ]
  },
  {
   "cell_type": "code",
   "execution_count": 11,
   "metadata": {},
   "outputs": [
    {
     "ename": "TypeError",
     "evalue": "'int' object is not subscriptable",
     "output_type": "error",
     "traceback": [
      "\u001b[1;31m---------------------------------------------------------------------------\u001b[0m",
      "\u001b[1;31mTypeError\u001b[0m                                 Traceback (most recent call last)",
      "\u001b[1;32m<ipython-input-11-bbe2bc63a4e8>\u001b[0m in \u001b[0;36m<module>\u001b[1;34m\u001b[0m\n\u001b[0;32m      1\u001b[0m \u001b[0ma\u001b[0m \u001b[1;33m=\u001b[0m \u001b[0mnp\u001b[0m\u001b[1;33m.\u001b[0m\u001b[0mrandom\u001b[0m\u001b[1;33m.\u001b[0m\u001b[0mrandint\u001b[0m\u001b[1;33m(\u001b[0m\u001b[1;36m50\u001b[0m\u001b[1;33m,\u001b[0m\u001b[1;36m10000\u001b[0m\u001b[1;33m)\u001b[0m\u001b[1;33m\u001b[0m\u001b[1;33m\u001b[0m\u001b[0m\n\u001b[1;32m----> 2\u001b[1;33m \u001b[0ma\u001b[0m\u001b[1;33m[\u001b[0m\u001b[0mnp\u001b[0m\u001b[1;33m.\u001b[0m\u001b[0mwhere\u001b[0m\u001b[1;33m(\u001b[0m\u001b[1;33m(\u001b[0m\u001b[0ma\u001b[0m\u001b[1;33m>=\u001b[0m\u001b[1;36m40000\u001b[0m\u001b[1;33m)\u001b[0m\u001b[1;33m)\u001b[0m\u001b[1;33m]\u001b[0m\u001b[1;33m==\u001b[0m \u001b[1;36m4000\u001b[0m\u001b[1;33m\u001b[0m\u001b[1;33m\u001b[0m\u001b[0m\n\u001b[0m\u001b[0;32m      3\u001b[0m \u001b[0mprint\u001b[0m\u001b[1;33m(\u001b[0m\u001b[0ma\u001b[0m\u001b[1;33m)\u001b[0m\u001b[1;33m\u001b[0m\u001b[1;33m\u001b[0m\u001b[0m\n",
      "\u001b[1;31mTypeError\u001b[0m: 'int' object is not subscriptable"
     ]
    }
   ],
   "source": [
    "a = np.random.randint(50,10000)\n",
    "a[np.where((a>=40000))]== 4000\n",
    "print(a)"
   ]
  },
  {
   "cell_type": "markdown",
   "metadata": {},
   "source": [
    "<h4> Задача №9 </h4>\n",
    "\n",
    "1. Что такое нормальное распределение?В каких диапазонах оно бывает?\n",
    "2. Сортировка в numpy, Как сортирует?"
   ]
  },
  {
   "cell_type": "markdown",
   "metadata": {},
   "source": [
    "<h5> 1.Ответ:</h5>\n",
    "\n",
    "<b> Нормальное распределение — </b> это форма, представляющая данные путем организации распределения вероятностей каждого значения в данных. Мы используем различные функции в библиотеке <b> <i> numpy </i></b>для математического вычисления значений для нормального распределения.Большинство значений остаются вокруг среднего значения, что делает расположение симметричным."
   ]
  },
  {
   "attachments": {
    "image.png": {
     "image/png": "[encoded data removed]"
    }
   },
   "cell_type": "markdown",
   "metadata": {},
   "source": [
    "<b> Стандартным нормальным распределением </b>называется нормальное распределение с математическим ожиданием равным 0 и стандартным отклонением  равным 1.\n",
    "\n",
    "Доверительный интервал - это <b> диапазон значений </b> , в которых мы уверены, что наша истинная ценность.\n",
    "\n",
    "Около <b>68 %</b> значений из нормального распределения находятся на расстоянии не более одного стандартного отклонения σ от среднего; около <b>95 %</b> значений лежат расстоянии не более двух стандартных отклонений; и <b>99,7 %</b> не более трёх. Этот факт является частным случаем правила 3 сигм для нормальной выборки.\n",
    "![image.png](attachment:image.png)"
   ]
  },
  {
   "cell_type": "markdown",
   "metadata": {},
   "source": [
    "<h5> 2. Ответ</h5>"
   ]
  },
  {
   "cell_type": "markdown",
   "metadata": {},
   "source": [
    "Функция <b> sort() </b> возвращает отсортированную копию массива.\n",
    "\n",
    "<b> <i> numpy.sort(a, axis=-1, kind='quicksort', order=None)</i> </b>\n",
    "Параметры:\n",
    "\n",
    "<b>a</b> - массив NumPy или подобный массиву объект.\n",
    "Исходный массив.\n",
    "\n",
    "<b>axis</b> - целое число (необязательный параметр).\n",
    "Определяет ось вдоль которой выполняется сортировка элементов. Если равен None, то сортировка выполняется по сжатому до одной оси представлению исходного массива. По умолчанию axis = -1, что соответствует сортировке по последней оси массива."
   ]
  },
  {
   "cell_type": "code",
   "execution_count": 121,
   "metadata": {},
   "outputs": [
    {
     "data": {
      "text/plain": [
       "array([[39, 70, 74, 53, 82, 24],\n",
       "       [ 2, 91, 32, 25, 95, 93],\n",
       "       [77, 56,  0, 27, 25, 22],\n",
       "       [51, 65, 10, 35, 21,  5],\n",
       "       [83, 27, 89, 15, 87, 81],\n",
       "       [91, 54, 42, 21, 68, 68]])"
      ]
     },
     "execution_count": 121,
     "metadata": {},
     "output_type": "execute_result"
    }
   ],
   "source": [
    "b = np.random.randint(0, 100, size = (6, 6))\n",
    "b"
   ]
  },
  {
   "cell_type": "code",
   "execution_count": 122,
   "metadata": {},
   "outputs": [
    {
     "data": {
      "text/plain": [
       "array([[ 2, 27,  0, 15, 21,  5],\n",
       "       [39, 54, 10, 21, 25, 22],\n",
       "       [51, 56, 32, 25, 68, 24],\n",
       "       [77, 65, 42, 27, 82, 68],\n",
       "       [83, 70, 74, 35, 87, 81],\n",
       "       [91, 91, 89, 53, 95, 93]])"
      ]
     },
     "execution_count": 122,
     "metadata": {},
     "output_type": "execute_result"
    }
   ],
   "source": [
    "np.sort(b, axis = 0)    #  сортировка по столбцам\n"
   ]
  },
  {
   "cell_type": "code",
   "execution_count": 123,
   "metadata": {},
   "outputs": [
    {
     "data": {
      "text/plain": [
       "array([[24, 39, 53, 70, 74, 82],\n",
       "       [ 2, 25, 32, 91, 93, 95],\n",
       "       [ 0, 22, 25, 27, 56, 77],\n",
       "       [ 5, 10, 21, 35, 51, 65],\n",
       "       [15, 27, 81, 83, 87, 89],\n",
       "       [21, 42, 54, 68, 68, 91]])"
      ]
     },
     "execution_count": 123,
     "metadata": {},
     "output_type": "execute_result"
    }
   ],
   "source": [
    "np.sort(b, axis = 1)    #  сортировка по строкам (по умолчанию)"
   ]
  },
  {
   "cell_type": "markdown",
   "metadata": {},
   "source": [
    "<h5> Трехмерные массивы, могут быть отсортированы по \"длине\", \"ширине\" и \"высоте\":</h5>"
   ]
  },
  {
   "cell_type": "code",
   "execution_count": 124,
   "metadata": {},
   "outputs": [
    {
     "data": {
      "text/plain": [
       "array([[[ 4, 23, 86, 76],\n",
       "        [ 9, 51, 83, 98],\n",
       "        [43, 51, 74, 93]],\n",
       "\n",
       "       [[29, 77,  1, 14],\n",
       "        [88, 41, 67, 13],\n",
       "        [24,  5, 30, 87]]])"
      ]
     },
     "execution_count": 124,
     "metadata": {},
     "output_type": "execute_result"
    }
   ],
   "source": [
    "c = np.random.randint(0, 100, size = (2, 3, 4))\n",
    "c"
   ]
  },
  {
   "cell_type": "code",
   "execution_count": 125,
   "metadata": {},
   "outputs": [
    {
     "data": {
      "text/plain": [
       "array([[[ 4, 23, 76, 86],\n",
       "        [ 9, 51, 83, 98],\n",
       "        [43, 51, 74, 93]],\n",
       "\n",
       "       [[ 1, 14, 29, 77],\n",
       "        [13, 41, 67, 88],\n",
       "        [ 5, 24, 30, 87]]])"
      ]
     },
     "execution_count": 125,
     "metadata": {},
     "output_type": "execute_result"
    }
   ],
   "source": [
    "np.sort(c, axis = 2)    #  сортировка по \"ширине\""
   ]
  },
  {
   "cell_type": "code",
   "execution_count": 126,
   "metadata": {},
   "outputs": [
    {
     "data": {
      "text/plain": [
       "array([[[ 4, 23, 74, 76],\n",
       "        [ 9, 51, 83, 93],\n",
       "        [43, 51, 86, 98]],\n",
       "\n",
       "       [[24,  5,  1, 13],\n",
       "        [29, 41, 30, 14],\n",
       "        [88, 77, 67, 87]]])"
      ]
     },
     "execution_count": 126,
     "metadata": {},
     "output_type": "execute_result"
    }
   ],
   "source": [
    "np.sort(c, axis = 1)    #  сортировка по \"длине\""
   ]
  },
  {
   "cell_type": "code",
   "execution_count": 127,
   "metadata": {},
   "outputs": [
    {
     "data": {
      "text/plain": [
       "array([[[ 4, 23,  1, 14],\n",
       "        [ 9, 41, 67, 13],\n",
       "        [24,  5, 30, 87]],\n",
       "\n",
       "       [[29, 77, 86, 76],\n",
       "        [88, 51, 83, 98],\n",
       "        [43, 51, 74, 93]]])"
      ]
     },
     "execution_count": 127,
     "metadata": {},
     "output_type": "execute_result"
    }
   ],
   "source": [
    "np.sort(c, axis = 0)    #  сортировка по \"высоте\""
   ]
  },
  {
   "cell_type": "code",
   "execution_count": null,
   "metadata": {},
   "outputs": [],
   "source": []
  }
 ],
 "metadata": {
  "kernelspec": {
   "display_name": "Python 3 (ipykernel)",
   "language": "python",
   "name": "python3"
  },
  "language_info": {
   "codemirror_mode": {
    "name": "ipython",
    "version": 3
   },
   "file_extension": ".py",
   "mimetype": "text/x-python",
   "name": "python",
   "nbconvert_exporter": "python",
   "pygments_lexer": "ipython3",
   "version": "3.9.7"
  }
 },
 "nbformat": 4,
 "nbformat_minor": 4
}
