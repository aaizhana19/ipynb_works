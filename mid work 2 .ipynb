{
 "cells": [
  {
   "cell_type": "markdown",
   "metadata": {},
   "source": [
    "#  Задача 1 – 25 баллов\n",
    "Дан лист вида\n",
    "a = [\n",
    "    [100, 500, 600],\n",
    "    [900],\n",
    "    [30, 89]\n",
    "]\n",
    "\n",
    "Нужно вывести:\n",
    "\n",
    "1)\tЕсть ли в листе строка (подмассив) с ровно одним простым числом\n",
    "\n",
    "2)\tЕсть ли в листе строка (подмассив) в котором все числа делятся на 100 без остатка\n",
    "\n",
    "Решение оформить с помощью функций\n",
    "\n"
   ]
  },
  {
   "cell_type": "code",
   "execution_count": 24,
   "metadata": {},
   "outputs": [],
   "source": [
    "def is_prime(number):\n",
    "    for i in range(2, number):\n",
    "        if number % i == 0:\n",
    "            return False\n",
    "    return True\n",
    "\n",
    "def is_divisible(number):\n",
    "    if number%100==0:\n",
    "        return True\n",
    "    return False"
   ]
  },
  {
   "cell_type": "code",
   "execution_count": 25,
   "metadata": {},
   "outputs": [],
   "source": [
    "def has_prime_row(a):\n",
    "    cnt=0\n",
    "    for i in a:\n",
    "        existent = True\n",
    "        for j in i:\n",
    "            if is_prime(j):\n",
    "                cnt+=1\n",
    "        if cnt==1:\n",
    "            return True\n",
    "    return False\n",
    "        \n",
    "def is_divisible_row(a):\n",
    "    for i in a:\n",
    "        divisible= True\n",
    "        for j in i:\n",
    "            if not is_divisible(j):\n",
    "                divisible= False\n",
    "                break\n",
    "        if divisible:\n",
    "            return True\n",
    "    return False\n",
    "    \n",
    "                \n",
    "                \n",
    "        "
   ]
  },
  {
   "cell_type": "code",
   "execution_count": 29,
   "metadata": {},
   "outputs": [],
   "source": [
    "a = [ [100, 500, 600],[900],[30, 89] ]\n"
   ]
  },
  {
   "cell_type": "code",
   "execution_count": 30,
   "metadata": {},
   "outputs": [
    {
     "data": {
      "text/plain": [
       "True"
      ]
     },
     "execution_count": 30,
     "metadata": {},
     "output_type": "execute_result"
    }
   ],
   "source": [
    "has_prime_row(a)"
   ]
  },
  {
   "cell_type": "code",
   "execution_count": 31,
   "metadata": {},
   "outputs": [
    {
     "data": {
      "text/plain": [
       "True"
      ]
     },
     "execution_count": 31,
     "metadata": {},
     "output_type": "execute_result"
    }
   ],
   "source": [
    "is_divisible_row(a)"
   ]
  },
  {
   "cell_type": "markdown",
   "metadata": {},
   "source": [
    "# Задача 2 – 25 баллов\n",
    "Дан массив пар. Каждая пара содержит имя студента и его оценки. Массив отсортирован по сумме оценок.\n",
    "\n",
    "a = [\n",
    "    [“Ленин”, [70, 50, 22, 90]],\n",
    "    [“Троцкий”, [50]],\n",
    "    [“Блюмкин”, [100, 96, 90]],\n",
    "    ...\n",
    "]\n",
    "\n",
    "1)\tНаписать функцию, которая принимает такой массив пар, и число, и находит за кратчайшее возможное время студента ровно с такой средней оценкой\n",
    "def find_student(students, average_mark):\n",
    "    …\n",
    "    \n",
    "2)\tДополните свою функцию так, чтобы если студента со средней оценкой равной искомой оценкой в массиве нет, выбирался студент с самой близкой к искомой средней оценкой\n"
   ]
  },
  {
   "cell_type": "code",
   "execution_count": 44,
   "metadata": {},
   "outputs": [],
   "source": [
    "students= [ [\"Ленин\",[70,52,22,90]],[\"Троцкий\",[50]],[\"Блюмкин\",[100,96,90]] ]"
   ]
  },
  {
   "cell_type": "code",
   "execution_count": 70,
   "metadata": {},
   "outputs": [],
   "source": [
    "def find_student(students, average_mark):\n",
    "    for stroka in students:\n",
    "        for elem in stroka[1::]:\n",
    "            for i in elem:\n",
    "                if i==average_mark:\n",
    "                    return stroka[0]\n",
    "            \n",
    "            \n",
    "            \n",
    "def find_studentss(students, average_mark):\n",
    "    res = ''\n",
    "    for stroka in students:\n",
    "        for elem in stroka[1::]:\n",
    "            for i in elem:\n",
    "                if i==average_mark:\n",
    "                    res= stroka[0]\n",
    "                else:\n",
    "                    if i <= average_mark:\n",
    "                        res= stroka[0]\n",
    "    return res\n",
    "        \n"
   ]
  },
  {
   "cell_type": "code",
   "execution_count": 73,
   "metadata": {},
   "outputs": [
    {
     "data": {
      "text/plain": [
       "'Ленин'"
      ]
     },
     "execution_count": 73,
     "metadata": {},
     "output_type": "execute_result"
    }
   ],
   "source": [
    "find_student(students,52)"
   ]
  },
  {
   "cell_type": "code",
   "execution_count": 72,
   "metadata": {},
   "outputs": [
    {
     "data": {
      "text/plain": [
       "'Блюмкин'"
      ]
     },
     "execution_count": 72,
     "metadata": {},
     "output_type": "execute_result"
    }
   ],
   "source": [
    "find_studentss(students,97)"
   ]
  },
  {
   "cell_type": "markdown",
   "metadata": {},
   "source": [
    "# Задача 3 – 25 баллов\n",
    "\n",
    "Дан массив пар, как в задаче 2, но не отсортированный.\n",
    "\n",
    "1)\tОтсортируйте массив по максимальной оценке любым алгоритмом, не используя функцию sorted. Иными словами, при сравнении двух студентов, выше должен стоять тот, у которого максимальная оценка выше. \n",
    "То есть [6, 10, 0, 0, 0, 0, 100, 0, 0] больше, чем [99, 99, 99, 99, 99, 99, 99, 99, 99, 99]\n",
    "\n",
    "2)\tТак же отсортируйте оценки каждого студента\n"
   ]
  },
  {
   "cell_type": "code",
   "execution_count": 137,
   "metadata": {},
   "outputs": [],
   "source": [
    "def quicksort(x):\n",
    "    a = sort_grades(a)\n",
    "    if len(a) == 0 or len(a) == 1:\n",
    "        return a\n",
    "    pivot_index = len(a) // 2\n",
    "    pivot = a[pivot_index]\n",
    "    left = []\n",
    "    right = []\n",
    "    for i in range(len(a)):\n",
    "        if i == pivot_index:\n",
    "            continue\n",
    "        if a[i] < pivot:\n",
    "            left.append(a[i])\n",
    "        else:\n",
    "            right.append(a[i])\n",
    "    result= quicksort(left) + [pivot] + quicksort(right)\n",
    "    return result\n"
   ]
  },
  {
   "cell_type": "code",
   "execution_count": 77,
   "metadata": {},
   "outputs": [
    {
     "data": {
      "text/plain": [
       "[['Блюмкин', [100, 96, 90]],\n",
       " ['Борисович', [100, 52, 22, 90]],\n",
       " ['Ленин', [70, 52, 22, 90]],\n",
       " ['Троцкий', [50]]]"
      ]
     },
     "execution_count": 77,
     "metadata": {},
     "output_type": "execute_result"
    }
   ],
   "source": [
    "quicksort(non_sorted_students)"
   ]
  },
  {
   "cell_type": "code",
   "execution_count": 295,
   "metadata": {},
   "outputs": [],
   "source": [
    "non_sorted_students= [ [\"Троцкий\",[50]],[\"Блюмкин\",[100,96,90]],[\"Ленин\",[70,52,22,90]],[\"Борисович\",[100,52,22,90]]]"
   ]
  },
  {
   "cell_type": "markdown",
   "metadata": {},
   "source": [
    "## 2)Так же отсортируйте оценки каждого студента"
   ]
  },
  {
   "cell_type": "code",
   "execution_count": 310,
   "metadata": {},
   "outputs": [],
   "source": [
    "def sort_grades(a):\n",
    "    for i in range(len(a)-1):\n",
    "            if a[i][1][0] > a[i][1][-1]:\n",
    "                a[i][1][0],a[i][1][-1] = a[i][1][-1],a[i][1][0]\n",
    "    return a\n",
    "\n",
    "\n",
    "\n",
    "        "
   ]
  },
  {
   "cell_type": "code",
   "execution_count": 311,
   "metadata": {},
   "outputs": [
    {
     "data": {
      "text/plain": [
       "[['Троцкий', [50]],\n",
       " ['Блюмкин', [90, 96, 100]],\n",
       " ['Ленин', [70, 22, 52, 90]],\n",
       " ['Борисович', [90, 22, 52, 100]]]"
      ]
     },
     "execution_count": 311,
     "metadata": {},
     "output_type": "execute_result"
    }
   ],
   "source": [
    "sort_grades(non_sorted_students)"
   ]
  },
  {
   "cell_type": "markdown",
   "metadata": {},
   "source": [
    "# Задача 4 – 25 баллов\n",
    "Дан произвольный текст:\n",
    "S = “””\n",
    "Серпанти́н (фр. serpentin от лат. serpens, serpentis — «змея»[1][2]) — извилистая дорога (или её участки с крутыми витками и петлями), как лента серпантин[3].\n",
    "\n",
    "При прокладке автомобильных дорог в горной местности, имеющей очень сложный рельеф, для получения заданных уклонов дороги устраивают особого вида кривые — симметричные серпантины[4] с большими углами поворотов, переходными кривыми, что позволяет осуществить развитие линии с целью преодоления крутых подъёмов и спусков на большом протяжении. Такие закругления называют серпантинами. Ввиду того, что угол поворота у серпантин очень большой, кривую располагают не внутри угла, а снаружи него.\n",
    "“””\n",
    "\n",
    "С помощью словарей реализовать:\n",
    "\n",
    "1)\tОтчёт о том, как часто встречаются слова определённой длины, например\n",
    "\n",
    "Слов из 1 буквы – 5\n",
    "\n",
    "Слов из 2 букв – 15\n",
    "\n",
    "Слова из 3 букв – 38\n",
    "\n",
    "...\n",
    "\n",
    "2)\tВыведите все слова текста по порядку возрастания длины. Если длина слов совпадает, слова нужно выводить в алфавитном порядке (подсказка – в Python знаки > и < также работают и для строк: “a” < “b” == True). Например\n",
    "\n",
    "А\n",
    "\n",
    "А\n",
    "\n",
    "А\n",
    "\n",
    "На\n",
    "\n",
    "На\n",
    "\n",
    "По\n",
    "\n",
    "Для\n",
    "\n",
    "Или\n",
    "\n",
    "Него\n",
    "\n",
    "...\n",
    "\n"
   ]
  },
  {
   "cell_type": "code",
   "execution_count": 323,
   "metadata": {},
   "outputs": [],
   "source": [
    "S = \"\"\" Серпанти́н (фр. serpentin от лат. serpens, serpentis — «змея»[1][2]) — извилистая дорога \n",
    "(или её участки с крутыми витками и петлями), как лента серпантин[3]. При прокладке автомобильных дорог в горной местности, имеющей очень \n",
    "сложный рельеф, для получения заданных уклонов дороги устраивают особого вида кривые — \n",
    "симметричные серпантины[4] с большими углами поворотов, переходными кривыми, что позволяет \n",
    "осуществить развитие линии с целью преодоления крутых подъёмов и спусков на большом протяжении. Такие закругления называют серпантинами. Ввиду того, что угол поворота у серпантин очень большой, \n",
    "кривую располагают не внутри угла, а снаружи него. \"\"\""
   ]
  },
  {
   "cell_type": "code",
   "execution_count": 313,
   "metadata": {},
   "outputs": [],
   "source": [
    "dicti = {}"
   ]
  },
  {
   "cell_type": "code",
   "execution_count": 347,
   "metadata": {},
   "outputs": [
    {
     "name": "stdout",
     "output_type": "stream",
     "text": [
      "Слов из  1 буквы – 34\n",
      "Слов из  2 буквы – 2\n",
      "Слов из  3 буквы – 2\n",
      "Слов из  4 буквы – 1\n",
      "Слов из  5 буквы – 2\n",
      "Слов из  6 буквы – 1\n",
      "Слов из  7 буквы – 1\n",
      "Слов из  8 буквы – 1\n",
      "Слов из  9 буквы – 4\n",
      "Слов из  10 буквы – 1\n",
      "Слов из  11 буквы – 1\n",
      "Слов из  12 буквы – 1\n",
      "Слов из  13 буквы – 1\n",
      "Слов из  18 буквы – 1\n"
     ]
    }
   ],
   "source": [
    "d=[]\n",
    "\n",
    "\n",
    "symbols = '()[],.1234567890~!_—«»'\n",
    "\n",
    "for i in S:\n",
    "    if i in symbols:\n",
    "        S = S.replace(i,'')\n",
    "        \n",
    "for word in S.split():\n",
    "    dicti[len(word)] = S.count(word)\n",
    "    \n",
    "    \n",
    "keys = list(dicti.keys())\n",
    "keys.sort()\n",
    "for i in keys:\n",
    "    print(\"Слов из \",i, \"буквы –\", dicti[i])\n",
    "\n",
    "    "
   ]
  },
  {
   "cell_type": "code",
   "execution_count": 353,
   "metadata": {},
   "outputs": [
    {
     "name": "stdout",
     "output_type": "stream",
     "text": [
      "serpens\n",
      "serpentin\n",
      "serpentis\n",
      "Ввиду\n",
      "При\n",
      "Серпанти́н\n",
      "Такие\n",
      "а\n",
      "автомобильных\n",
      "большими\n",
      "большой\n",
      "большом\n",
      "в\n",
      "вида\n",
      "витками\n",
      "внутри\n",
      "горной\n",
      "для\n",
      "дорог\n",
      "дорога\n",
      "дороги\n",
      "её\n",
      "заданных\n",
      "закругления\n",
      "змея\n",
      "и\n",
      "извилистая\n",
      "или\n",
      "имеющей\n",
      "как\n",
      "кривую\n",
      "кривые\n",
      "кривыми\n",
      "крутыми\n",
      "крутых\n",
      "лат\n",
      "лента\n",
      "линии\n",
      "местности\n",
      "на\n",
      "называют\n",
      "не\n",
      "него\n",
      "особого\n",
      "осуществить\n",
      "от\n",
      "очень\n",
      "переходными\n",
      "петлями\n",
      "поворота\n",
      "поворотов\n",
      "подъёмов\n",
      "позволяет\n",
      "получения\n",
      "преодоления\n",
      "прокладке\n",
      "протяжении\n",
      "развитие\n",
      "располагают\n",
      "рельеф\n",
      "с\n",
      "серпантин\n",
      "серпантинами\n",
      "серпантины\n",
      "симметричные\n",
      "сложный\n",
      "снаружи\n",
      "спусков\n",
      "того\n",
      "у\n",
      "угла\n",
      "углами\n",
      "угол\n",
      "уклонов\n",
      "устраивают\n",
      "участки\n",
      "фр\n",
      "целью\n",
      "что\n"
     ]
    }
   ],
   "source": [
    "words={}\n",
    "symbols = '()[],.1234567890~!_—«»'\n",
    "\n",
    "for i in S:\n",
    "    if i in symbols:\n",
    "        S = S.replace(i,'')\n",
    "        \n",
    "for word in S.split():\n",
    "    if word not in words:\n",
    "        words[word] = len(word)\n",
    "    if word in words:\n",
    "        words[word] += 1\n",
    "        \n",
    "for key,value in sorted(words.items()):\n",
    "    print(key)"
   ]
  },
  {
   "cell_type": "code",
   "execution_count": null,
   "metadata": {},
   "outputs": [],
   "source": []
  },
  {
   "cell_type": "code",
   "execution_count": null,
   "metadata": {},
   "outputs": [],
   "source": []
  }
 ],
 "metadata": {
  "kernelspec": {
   "display_name": "Python 3",
   "language": "python",
   "name": "python3"
  },
  "language_info": {
   "codemirror_mode": {
    "name": "ipython",
    "version": 3
   },
   "file_extension": ".py",
   "mimetype": "text/x-python",
   "name": "python",
   "nbconvert_exporter": "python",
   "pygments_lexer": "ipython3",
   "version": "3.8.3"
  }
 },
 "nbformat": 4,
 "nbformat_minor": 4
}
